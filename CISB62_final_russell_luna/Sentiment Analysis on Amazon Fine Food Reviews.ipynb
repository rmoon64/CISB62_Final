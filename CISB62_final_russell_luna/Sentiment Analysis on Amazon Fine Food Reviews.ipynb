{
 "cells": [
  {
   "cell_type": "markdown",
   "id": "e7cd2889",
   "metadata": {},
   "source": [
    "<div style=\"text-align:left\">\n",
    "\n",
    "## Sentiment Analysis on Amazon Fine Food Reviews\n",
    "\n",
    "#### Mt. SAC CISB 62 Final Project - Fall 2023\n",
    "\n",
    "#### Russell Luna\n",
    "\n",
    "## https://github.com/rmoon64/CISB62_Final/\n",
    "\n",
    "</div>"
   ]
  },
  {
   "cell_type": "markdown",
   "id": "328856cc",
   "metadata": {},
   "source": [
    "## Introduction / Summary:\n",
    "### The 'Amazon Fine Food Reviews' from Kaggle is a complete dataset that has about 560,000 reviews, which we trim down to 50,000 reviews. The goal of the project is to recommend new products to someone who does reviews often (Chris), using RNN to perform sentimental analysis using only Amazon reviews as the model.\n",
    "\n",
    "### This project utilized various deep learning techniques. The main tools used were RNN, TensorFlow V1, and hyperparameter tuning. First, I utilized a trimmed-down version of the data set with 50,000 reviews. Then, I used Matplotlib to plot the visualizations of important data, for example, the top 10 products with the most reviewers and the percentage of positive and negative reviews made by Chris. I then prepared the RNN with the LSTM model. This model was then fitted using six epochs and a batch size of twenty. This proved to be very beneficial, as the accuracy was extremely high at 0.9953 with a quite low loss of 0.0160. Next, I cleaned the data and defined the parameters and placeholders. Lastly, I got the scores and recommendations for Chris.\n",
    "\n",
    "https://www.kaggle.com/datasets/snap/amazon-fine-food-reviews"
   ]
  },
  {
   "cell_type": "code",
   "execution_count": 1,
   "id": "2a64d9c3",
   "metadata": {},
   "outputs": [
    {
     "name": "stdout",
     "output_type": "stream",
     "text": [
      "WARNING:tensorflow:From C:\\Anaconda\\Lib\\site-packages\\keras\\src\\losses.py:2976: The name tf.losses.sparse_softmax_cross_entropy is deprecated. Please use tf.compat.v1.losses.sparse_softmax_cross_entropy instead.\n",
      "\n"
     ]
    }
   ],
   "source": [
    "import tensorflow as tf\n",
    "import seaborn as sns\n",
    "import re\n",
    "import pandas as pd\n",
    "import numpy as np\n",
    "import keras\n",
    "import datetime\n",
    "\n",
    "from tensorflow.keras.preprocessing.sequence import pad_sequences\n",
    "from tensorflow.keras.preprocessing import sequence\n",
    "from tensorflow.keras.models import Sequential\n",
    "from tensorflow.keras.layers import Dense, LSTM, Embedding\n",
    "from tensorflow.keras.callbacks import ModelCheckpoint\n",
    "from string import punctuation\n",
    "from sklearn.model_selection import train_test_split\n",
    "from nltk.corpus import stopwords\n",
    "from matplotlib import pyplot as plt\n",
    "from keras.preprocessing.text import Tokenizer"
   ]
  },
  {
   "cell_type": "code",
   "execution_count": 2,
   "id": "535b5202",
   "metadata": {},
   "outputs": [],
   "source": [
    "import warnings\n",
    "warnings.filterwarnings(\"ignore\")"
   ]
  },
  {
   "cell_type": "code",
   "execution_count": 3,
   "id": "dc6170b4",
   "metadata": {},
   "outputs": [],
   "source": [
    "#Import dataset\n",
    "df = pd.read_csv('Reviews.csv')"
   ]
  },
  {
   "cell_type": "code",
   "execution_count": 4,
   "id": "9e36ba58",
   "metadata": {},
   "outputs": [
    {
     "data": {
      "text/html": [
       "<div>\n",
       "<style scoped>\n",
       "    .dataframe tbody tr th:only-of-type {\n",
       "        vertical-align: middle;\n",
       "    }\n",
       "\n",
       "    .dataframe tbody tr th {\n",
       "        vertical-align: top;\n",
       "    }\n",
       "\n",
       "    .dataframe thead th {\n",
       "        text-align: right;\n",
       "    }\n",
       "</style>\n",
       "<table border=\"1\" class=\"dataframe\">\n",
       "  <thead>\n",
       "    <tr style=\"text-align: right;\">\n",
       "      <th></th>\n",
       "      <th>Id</th>\n",
       "      <th>HelpfulnessNumerator</th>\n",
       "      <th>HelpfulnessDenominator</th>\n",
       "      <th>Score</th>\n",
       "      <th>Time</th>\n",
       "    </tr>\n",
       "  </thead>\n",
       "  <tbody>\n",
       "    <tr>\n",
       "      <th>count</th>\n",
       "      <td>50000.000000</td>\n",
       "      <td>50000.000000</td>\n",
       "      <td>50000.000000</td>\n",
       "      <td>50000.000000</td>\n",
       "      <td>5.000000e+04</td>\n",
       "    </tr>\n",
       "    <tr>\n",
       "      <th>mean</th>\n",
       "      <td>25000.500000</td>\n",
       "      <td>1.603360</td>\n",
       "      <td>2.060260</td>\n",
       "      <td>4.145840</td>\n",
       "      <td>1.295198e+09</td>\n",
       "    </tr>\n",
       "    <tr>\n",
       "      <th>std</th>\n",
       "      <td>14433.901067</td>\n",
       "      <td>5.620771</td>\n",
       "      <td>6.216044</td>\n",
       "      <td>1.325596</td>\n",
       "      <td>4.734622e+07</td>\n",
       "    </tr>\n",
       "    <tr>\n",
       "      <th>min</th>\n",
       "      <td>1.000000</td>\n",
       "      <td>0.000000</td>\n",
       "      <td>0.000000</td>\n",
       "      <td>1.000000</td>\n",
       "      <td>9.617184e+08</td>\n",
       "    </tr>\n",
       "    <tr>\n",
       "      <th>25%</th>\n",
       "      <td>12500.750000</td>\n",
       "      <td>0.000000</td>\n",
       "      <td>0.000000</td>\n",
       "      <td>4.000000</td>\n",
       "      <td>1.269648e+09</td>\n",
       "    </tr>\n",
       "    <tr>\n",
       "      <th>50%</th>\n",
       "      <td>25000.500000</td>\n",
       "      <td>0.000000</td>\n",
       "      <td>1.000000</td>\n",
       "      <td>5.000000</td>\n",
       "      <td>1.309133e+09</td>\n",
       "    </tr>\n",
       "    <tr>\n",
       "      <th>75%</th>\n",
       "      <td>37500.250000</td>\n",
       "      <td>2.000000</td>\n",
       "      <td>2.000000</td>\n",
       "      <td>5.000000</td>\n",
       "      <td>1.331078e+09</td>\n",
       "    </tr>\n",
       "    <tr>\n",
       "      <th>max</th>\n",
       "      <td>50000.000000</td>\n",
       "      <td>398.000000</td>\n",
       "      <td>401.000000</td>\n",
       "      <td>5.000000</td>\n",
       "      <td>1.351210e+09</td>\n",
       "    </tr>\n",
       "  </tbody>\n",
       "</table>\n",
       "</div>"
      ],
      "text/plain": [
       "                 Id  HelpfulnessNumerator  HelpfulnessDenominator  \\\n",
       "count  50000.000000          50000.000000            50000.000000   \n",
       "mean   25000.500000              1.603360                2.060260   \n",
       "std    14433.901067              5.620771                6.216044   \n",
       "min        1.000000              0.000000                0.000000   \n",
       "25%    12500.750000              0.000000                0.000000   \n",
       "50%    25000.500000              0.000000                1.000000   \n",
       "75%    37500.250000              2.000000                2.000000   \n",
       "max    50000.000000            398.000000              401.000000   \n",
       "\n",
       "              Score          Time  \n",
       "count  50000.000000  5.000000e+04  \n",
       "mean       4.145840  1.295198e+09  \n",
       "std        1.325596  4.734622e+07  \n",
       "min        1.000000  9.617184e+08  \n",
       "25%        4.000000  1.269648e+09  \n",
       "50%        5.000000  1.309133e+09  \n",
       "75%        5.000000  1.331078e+09  \n",
       "max        5.000000  1.351210e+09  "
      ]
     },
     "execution_count": 4,
     "metadata": {},
     "output_type": "execute_result"
    }
   ],
   "source": [
    "df.describe()"
   ]
  },
  {
   "cell_type": "code",
   "execution_count": 5,
   "id": "1e07f148",
   "metadata": {},
   "outputs": [
    {
     "data": {
      "text/html": [
       "<div>\n",
       "<style scoped>\n",
       "    .dataframe tbody tr th:only-of-type {\n",
       "        vertical-align: middle;\n",
       "    }\n",
       "\n",
       "    .dataframe tbody tr th {\n",
       "        vertical-align: top;\n",
       "    }\n",
       "\n",
       "    .dataframe thead th {\n",
       "        text-align: right;\n",
       "    }\n",
       "</style>\n",
       "<table border=\"1\" class=\"dataframe\">\n",
       "  <thead>\n",
       "    <tr style=\"text-align: right;\">\n",
       "      <th></th>\n",
       "      <th>Id</th>\n",
       "      <th>ProductId</th>\n",
       "      <th>UserId</th>\n",
       "      <th>ProfileName</th>\n",
       "      <th>HelpfulnessNumerator</th>\n",
       "      <th>HelpfulnessDenominator</th>\n",
       "      <th>Score</th>\n",
       "      <th>Time</th>\n",
       "      <th>Summary</th>\n",
       "      <th>Text</th>\n",
       "    </tr>\n",
       "  </thead>\n",
       "  <tbody>\n",
       "    <tr>\n",
       "      <th>0</th>\n",
       "      <td>1</td>\n",
       "      <td>B001E4KFG0</td>\n",
       "      <td>A3SGXH7AUHU8GW</td>\n",
       "      <td>delmartian</td>\n",
       "      <td>1</td>\n",
       "      <td>1</td>\n",
       "      <td>5</td>\n",
       "      <td>1303862400</td>\n",
       "      <td>Good Quality Dog Food</td>\n",
       "      <td>I have bought several of the Vitality canned d...</td>\n",
       "    </tr>\n",
       "    <tr>\n",
       "      <th>1</th>\n",
       "      <td>2</td>\n",
       "      <td>B00813GRG4</td>\n",
       "      <td>A1D87F6ZCVE5NK</td>\n",
       "      <td>dll pa</td>\n",
       "      <td>0</td>\n",
       "      <td>0</td>\n",
       "      <td>1</td>\n",
       "      <td>1346976000</td>\n",
       "      <td>Not as Advertised</td>\n",
       "      <td>Product arrived labeled as Jumbo Salted Peanut...</td>\n",
       "    </tr>\n",
       "    <tr>\n",
       "      <th>2</th>\n",
       "      <td>3</td>\n",
       "      <td>B000LQOCH0</td>\n",
       "      <td>ABXLMWJIXXAIN</td>\n",
       "      <td>Natalia Corres \"Natalia Corres\"</td>\n",
       "      <td>1</td>\n",
       "      <td>1</td>\n",
       "      <td>4</td>\n",
       "      <td>1219017600</td>\n",
       "      <td>\"Delight\" says it all</td>\n",
       "      <td>This is a confection that has been around a fe...</td>\n",
       "    </tr>\n",
       "  </tbody>\n",
       "</table>\n",
       "</div>"
      ],
      "text/plain": [
       "   Id   ProductId          UserId                      ProfileName  \\\n",
       "0   1  B001E4KFG0  A3SGXH7AUHU8GW                       delmartian   \n",
       "1   2  B00813GRG4  A1D87F6ZCVE5NK                           dll pa   \n",
       "2   3  B000LQOCH0   ABXLMWJIXXAIN  Natalia Corres \"Natalia Corres\"   \n",
       "\n",
       "   HelpfulnessNumerator  HelpfulnessDenominator  Score        Time  \\\n",
       "0                     1                       1      5  1303862400   \n",
       "1                     0                       0      1  1346976000   \n",
       "2                     1                       1      4  1219017600   \n",
       "\n",
       "                 Summary                                               Text  \n",
       "0  Good Quality Dog Food  I have bought several of the Vitality canned d...  \n",
       "1      Not as Advertised  Product arrived labeled as Jumbo Salted Peanut...  \n",
       "2  \"Delight\" says it all  This is a confection that has been around a fe...  "
      ]
     },
     "execution_count": 5,
     "metadata": {},
     "output_type": "execute_result"
    }
   ],
   "source": [
    "df.head(3)"
   ]
  },
  {
   "cell_type": "code",
   "execution_count": 6,
   "id": "94869b5c",
   "metadata": {},
   "outputs": [
    {
     "name": "stdout",
     "output_type": "stream",
     "text": [
      "<class 'pandas.core.frame.DataFrame'>\n",
      "RangeIndex: 50000 entries, 0 to 49999\n",
      "Data columns (total 10 columns):\n",
      " #   Column                  Non-Null Count  Dtype \n",
      "---  ------                  --------------  ----- \n",
      " 0   Id                      50000 non-null  int64 \n",
      " 1   ProductId               50000 non-null  object\n",
      " 2   UserId                  50000 non-null  object\n",
      " 3   ProfileName             49995 non-null  object\n",
      " 4   HelpfulnessNumerator    50000 non-null  int64 \n",
      " 5   HelpfulnessDenominator  50000 non-null  int64 \n",
      " 6   Score                   50000 non-null  int64 \n",
      " 7   Time                    50000 non-null  int64 \n",
      " 8   Summary                 49998 non-null  object\n",
      " 9   Text                    50000 non-null  object\n",
      "dtypes: int64(5), object(5)\n",
      "memory usage: 3.8+ MB\n"
     ]
    }
   ],
   "source": [
    "df.info()"
   ]
  },
  {
   "cell_type": "code",
   "execution_count": 7,
   "id": "63dda442",
   "metadata": {},
   "outputs": [
    {
     "name": "stdout",
     "output_type": "stream",
     "text": [
      "(50000, 10)\n"
     ]
    }
   ],
   "source": [
    "print(df.shape)"
   ]
  },
  {
   "cell_type": "code",
   "execution_count": 8,
   "id": "60380011",
   "metadata": {},
   "outputs": [
    {
     "data": {
      "text/html": [
       "<div>\n",
       "<style scoped>\n",
       "    .dataframe tbody tr th:only-of-type {\n",
       "        vertical-align: middle;\n",
       "    }\n",
       "\n",
       "    .dataframe tbody tr th {\n",
       "        vertical-align: top;\n",
       "    }\n",
       "\n",
       "    .dataframe thead th {\n",
       "        text-align: right;\n",
       "    }\n",
       "</style>\n",
       "<table border=\"1\" class=\"dataframe\">\n",
       "  <thead>\n",
       "    <tr style=\"text-align: right;\">\n",
       "      <th></th>\n",
       "      <th>Id</th>\n",
       "      <th>ProductId</th>\n",
       "      <th>UserId</th>\n",
       "      <th>ProfileName</th>\n",
       "      <th>HelpfulnessNumerator</th>\n",
       "      <th>HelpfulnessDenominator</th>\n",
       "      <th>Score</th>\n",
       "      <th>Time</th>\n",
       "      <th>Summary</th>\n",
       "      <th>Text</th>\n",
       "    </tr>\n",
       "  </thead>\n",
       "  <tbody>\n",
       "    <tr>\n",
       "      <th>0</th>\n",
       "      <td>1</td>\n",
       "      <td>B001E4KFG0</td>\n",
       "      <td>A3SGXH7AUHU8GW</td>\n",
       "      <td>delmartian</td>\n",
       "      <td>1</td>\n",
       "      <td>1</td>\n",
       "      <td>5</td>\n",
       "      <td>1303862400</td>\n",
       "      <td>Good Quality Dog Food</td>\n",
       "      <td>I have bought several of the Vitality canned d...</td>\n",
       "    </tr>\n",
       "    <tr>\n",
       "      <th>1</th>\n",
       "      <td>2</td>\n",
       "      <td>B00813GRG4</td>\n",
       "      <td>A1D87F6ZCVE5NK</td>\n",
       "      <td>dll pa</td>\n",
       "      <td>0</td>\n",
       "      <td>0</td>\n",
       "      <td>1</td>\n",
       "      <td>1346976000</td>\n",
       "      <td>Not as Advertised</td>\n",
       "      <td>Product arrived labeled as Jumbo Salted Peanut...</td>\n",
       "    </tr>\n",
       "    <tr>\n",
       "      <th>2</th>\n",
       "      <td>3</td>\n",
       "      <td>B000LQOCH0</td>\n",
       "      <td>ABXLMWJIXXAIN</td>\n",
       "      <td>Natalia Corres \"Natalia Corres\"</td>\n",
       "      <td>1</td>\n",
       "      <td>1</td>\n",
       "      <td>4</td>\n",
       "      <td>1219017600</td>\n",
       "      <td>\"Delight\" says it all</td>\n",
       "      <td>This is a confection that has been around a fe...</td>\n",
       "    </tr>\n",
       "    <tr>\n",
       "      <th>3</th>\n",
       "      <td>4</td>\n",
       "      <td>B000UA0QIQ</td>\n",
       "      <td>A395BORC6FGVXV</td>\n",
       "      <td>Karl</td>\n",
       "      <td>3</td>\n",
       "      <td>3</td>\n",
       "      <td>2</td>\n",
       "      <td>1307923200</td>\n",
       "      <td>Cough Medicine</td>\n",
       "      <td>If you are looking for the secret ingredient i...</td>\n",
       "    </tr>\n",
       "    <tr>\n",
       "      <th>4</th>\n",
       "      <td>5</td>\n",
       "      <td>B006K2ZZ7K</td>\n",
       "      <td>A1UQRSCLF8GW1T</td>\n",
       "      <td>Michael D. Bigham \"M. Wassir\"</td>\n",
       "      <td>0</td>\n",
       "      <td>0</td>\n",
       "      <td>5</td>\n",
       "      <td>1350777600</td>\n",
       "      <td>Great taffy</td>\n",
       "      <td>Great taffy at a great price.  There was a wid...</td>\n",
       "    </tr>\n",
       "  </tbody>\n",
       "</table>\n",
       "</div>"
      ],
      "text/plain": [
       "   Id   ProductId          UserId                      ProfileName  \\\n",
       "0   1  B001E4KFG0  A3SGXH7AUHU8GW                       delmartian   \n",
       "1   2  B00813GRG4  A1D87F6ZCVE5NK                           dll pa   \n",
       "2   3  B000LQOCH0   ABXLMWJIXXAIN  Natalia Corres \"Natalia Corres\"   \n",
       "3   4  B000UA0QIQ  A395BORC6FGVXV                             Karl   \n",
       "4   5  B006K2ZZ7K  A1UQRSCLF8GW1T    Michael D. Bigham \"M. Wassir\"   \n",
       "\n",
       "   HelpfulnessNumerator  HelpfulnessDenominator  Score        Time  \\\n",
       "0                     1                       1      5  1303862400   \n",
       "1                     0                       0      1  1346976000   \n",
       "2                     1                       1      4  1219017600   \n",
       "3                     3                       3      2  1307923200   \n",
       "4                     0                       0      5  1350777600   \n",
       "\n",
       "                 Summary                                               Text  \n",
       "0  Good Quality Dog Food  I have bought several of the Vitality canned d...  \n",
       "1      Not as Advertised  Product arrived labeled as Jumbo Salted Peanut...  \n",
       "2  \"Delight\" says it all  This is a confection that has been around a fe...  \n",
       "3         Cough Medicine  If you are looking for the secret ingredient i...  \n",
       "4            Great taffy  Great taffy at a great price.  There was a wid...  "
      ]
     },
     "execution_count": 8,
     "metadata": {},
     "output_type": "execute_result"
    }
   ],
   "source": [
    "df.head()"
   ]
  },
  {
   "cell_type": "code",
   "execution_count": 9,
   "id": "129fbd44",
   "metadata": {},
   "outputs": [
    {
     "data": {
      "text/plain": [
       "'I have bought several of the Vitality canned dog food products and have found them all to be of good quality. The product looks more like a stew than a processed meat and it smells better. My Labrador is finicky and she appreciates this product better than  most.'"
      ]
     },
     "execution_count": 9,
     "metadata": {},
     "output_type": "execute_result"
    }
   ],
   "source": [
    "df[\"Text\"][0]"
   ]
  },
  {
   "cell_type": "code",
   "execution_count": 10,
   "id": "e493e9fb",
   "metadata": {},
   "outputs": [],
   "source": [
    "#Grabbing the columns that we need\n",
    "df_reviews = df[['ProductId','ProfileName','Score','Text','HelpfulnessNumerator','HelpfulnessDenominator']]"
   ]
  },
  {
   "cell_type": "code",
   "execution_count": 11,
   "id": "47e34d6b",
   "metadata": {},
   "outputs": [
    {
     "data": {
      "text/plain": [
       "ProfileName\n",
       "Gary Peterson                             44\n",
       "C. F. Hill \"CFH\"                          39\n",
       "O. Brown \"Ms. O. Khannah-Brown\"           35\n",
       "c2                                        35\n",
       "Gunner                                    31\n",
       "Chris                                     31\n",
       "Rebecca of Amazon \"The Rebecca Review\"    29\n",
       "Laura                                     24\n",
       "Amanda                                    24\n",
       "Mike                                      24\n",
       "dtype: int64"
      ]
     },
     "execution_count": 11,
     "metadata": {},
     "output_type": "execute_result"
    }
   ],
   "source": [
    "#Loading the top 10 reviewers with the most reviews.\n",
    "df.pivot_table(columns=['ProfileName'], aggfunc='size').sort_values(ascending=False).head(10)"
   ]
  },
  {
   "cell_type": "code",
   "execution_count": 12,
   "id": "009f5dc4",
   "metadata": {},
   "outputs": [],
   "source": [
    "popular = df[['ProductId','ProfileName']].groupby('ProductId').count().sort_values(['ProfileName'],ascending=False).reset_index()"
   ]
  },
  {
   "cell_type": "code",
   "execution_count": 13,
   "id": "090a363f",
   "metadata": {},
   "outputs": [
    {
     "data": {
      "text/plain": [
       "Index(['Id', 'ProductId', 'UserId', 'ProfileName', 'HelpfulnessNumerator',\n",
       "       'HelpfulnessDenominator', 'Score', 'Time', 'Summary', 'Text'],\n",
       "      dtype='object')"
      ]
     },
     "execution_count": 13,
     "metadata": {},
     "output_type": "execute_result"
    }
   ],
   "source": [
    "df.columns"
   ]
  },
  {
   "cell_type": "markdown",
   "id": "15337f40",
   "metadata": {},
   "source": [
    "## Visuals: matplotlib and seaborn"
   ]
  },
  {
   "cell_type": "code",
   "execution_count": 14,
   "id": "22c2a8de",
   "metadata": {},
   "outputs": [],
   "source": [
    "top_10_popular = popular.head(10) # Select the top 10 products with the most reviewers"
   ]
  },
  {
   "cell_type": "code",
   "execution_count": 15,
   "id": "07f614e4",
   "metadata": {},
   "outputs": [
    {
     "data": {
      "image/png": "[encoded data removed]",
      "text/plain": [
       "<Figure size 640x480 with 1 Axes>"
      ]
     },
     "metadata": {},
     "output_type": "display_data"
    }
   ],
   "source": [
    "fig, axs = plt.subplots(sharey=True, tight_layout=True)\n",
    "axs.bar(top_10_popular['ProductId'], top_10_popular['ProfileName'])\n",
    "axs.set_xlabel('ProductID')\n",
    "axs.set_ylabel('ProfileName')\n",
    "axs.set_title('Top 10 Products with the Most Reviewers')\n",
    "plt.xticks(rotation=90) # Rotate x-axis labels for better visibility\n",
    "plt.show()"
   ]
  },
  {
   "cell_type": "code",
   "execution_count": 16,
   "id": "72d7e74f",
   "metadata": {},
   "outputs": [
    {
     "data": {
      "text/html": [
       "<div>\n",
       "<style scoped>\n",
       "    .dataframe tbody tr th:only-of-type {\n",
       "        vertical-align: middle;\n",
       "    }\n",
       "\n",
       "    .dataframe tbody tr th {\n",
       "        vertical-align: top;\n",
       "    }\n",
       "\n",
       "    .dataframe thead th {\n",
       "        text-align: right;\n",
       "    }\n",
       "</style>\n",
       "<table border=\"1\" class=\"dataframe\">\n",
       "  <thead>\n",
       "    <tr style=\"text-align: right;\">\n",
       "      <th></th>\n",
       "      <th>ProductId</th>\n",
       "      <th>ProfileName</th>\n",
       "      <th>Score</th>\n",
       "      <th>Text</th>\n",
       "      <th>HelpfulnessNumerator</th>\n",
       "      <th>HelpfulnessDenominator</th>\n",
       "    </tr>\n",
       "  </thead>\n",
       "  <tbody>\n",
       "    <tr>\n",
       "      <th>151</th>\n",
       "      <td>B00374XSVY</td>\n",
       "      <td>Chris</td>\n",
       "      <td>5</td>\n",
       "      <td>Works with chicken fish beef or pork. Fast eas...</td>\n",
       "      <td>0</td>\n",
       "      <td>0</td>\n",
       "    </tr>\n",
       "    <tr>\n",
       "      <th>637</th>\n",
       "      <td>B000G6RYNE</td>\n",
       "      <td>Chris</td>\n",
       "      <td>4</td>\n",
       "      <td>This kettle chips taste \"Good , Crispy &amp; Crunc...</td>\n",
       "      <td>0</td>\n",
       "      <td>0</td>\n",
       "    </tr>\n",
       "    <tr>\n",
       "      <th>729</th>\n",
       "      <td>B008BEGP9W</td>\n",
       "      <td>Chris</td>\n",
       "      <td>4</td>\n",
       "      <td>I really like the pineapple shortcakes sold he...</td>\n",
       "      <td>0</td>\n",
       "      <td>0</td>\n",
       "    </tr>\n",
       "    <tr>\n",
       "      <th>1006</th>\n",
       "      <td>B002XG21MO</td>\n",
       "      <td>Chris</td>\n",
       "      <td>5</td>\n",
       "      <td>These are just like the animal crackers we eat...</td>\n",
       "      <td>0</td>\n",
       "      <td>0</td>\n",
       "    </tr>\n",
       "    <tr>\n",
       "      <th>3142</th>\n",
       "      <td>B000FDKQCY</td>\n",
       "      <td>Chris</td>\n",
       "      <td>5</td>\n",
       "      <td>This product is as good as any that I have eve...</td>\n",
       "      <td>0</td>\n",
       "      <td>0</td>\n",
       "    </tr>\n",
       "    <tr>\n",
       "      <th>5301</th>\n",
       "      <td>B003OJLCXI</td>\n",
       "      <td>Chris</td>\n",
       "      <td>4</td>\n",
       "      <td>I really like this tea, but my husband smelled...</td>\n",
       "      <td>1</td>\n",
       "      <td>1</td>\n",
       "    </tr>\n",
       "    <tr>\n",
       "      <th>5826</th>\n",
       "      <td>B000633O2C</td>\n",
       "      <td>Chris</td>\n",
       "      <td>5</td>\n",
       "      <td>I want to give my cats as much variety as poss...</td>\n",
       "      <td>1</td>\n",
       "      <td>2</td>\n",
       "    </tr>\n",
       "    <tr>\n",
       "      <th>7424</th>\n",
       "      <td>B005LMLXN0</td>\n",
       "      <td>Chris</td>\n",
       "      <td>5</td>\n",
       "      <td>As a tea-junkie, Runa's traditional guayusa of...</td>\n",
       "      <td>1</td>\n",
       "      <td>1</td>\n",
       "    </tr>\n",
       "    <tr>\n",
       "      <th>7653</th>\n",
       "      <td>B000TRFGGM</td>\n",
       "      <td>Chris</td>\n",
       "      <td>4</td>\n",
       "      <td>I opened the carton and the plant looked like ...</td>\n",
       "      <td>0</td>\n",
       "      <td>0</td>\n",
       "    </tr>\n",
       "    <tr>\n",
       "      <th>7812</th>\n",
       "      <td>B00474H936</td>\n",
       "      <td>Chris</td>\n",
       "      <td>4</td>\n",
       "      <td>I have tried almost every kind of \"fake meat\" ...</td>\n",
       "      <td>0</td>\n",
       "      <td>0</td>\n",
       "    </tr>\n",
       "    <tr>\n",
       "      <th>9712</th>\n",
       "      <td>B001LXYA5Q</td>\n",
       "      <td>Chris</td>\n",
       "      <td>4</td>\n",
       "      <td>This stuff works, but be warned the effect doe...</td>\n",
       "      <td>0</td>\n",
       "      <td>0</td>\n",
       "    </tr>\n",
       "    <tr>\n",
       "      <th>14414</th>\n",
       "      <td>B00063KO34</td>\n",
       "      <td>Chris</td>\n",
       "      <td>5</td>\n",
       "      <td>My dogs love these chews. I have 5 dogs - all ...</td>\n",
       "      <td>0</td>\n",
       "      <td>0</td>\n",
       "    </tr>\n",
       "    <tr>\n",
       "      <th>15075</th>\n",
       "      <td>B00113L7KC</td>\n",
       "      <td>Chris</td>\n",
       "      <td>5</td>\n",
       "      <td>I love this tea.  I don't profess to be a tea ...</td>\n",
       "      <td>0</td>\n",
       "      <td>0</td>\n",
       "    </tr>\n",
       "    <tr>\n",
       "      <th>15150</th>\n",
       "      <td>B0013E21V8</td>\n",
       "      <td>Chris</td>\n",
       "      <td>5</td>\n",
       "      <td>Our family loves this syrup!  I love that it i...</td>\n",
       "      <td>1</td>\n",
       "      <td>1</td>\n",
       "    </tr>\n",
       "    <tr>\n",
       "      <th>16240</th>\n",
       "      <td>B007TJGZ54</td>\n",
       "      <td>Chris</td>\n",
       "      <td>5</td>\n",
       "      <td>Love the Green Mountain Coffee; tastes great i...</td>\n",
       "      <td>0</td>\n",
       "      <td>0</td>\n",
       "    </tr>\n",
       "    <tr>\n",
       "      <th>16546</th>\n",
       "      <td>B003P7WLF2</td>\n",
       "      <td>Chris</td>\n",
       "      <td>1</td>\n",
       "      <td>I purchased these in lieu of the V8 Fusions si...</td>\n",
       "      <td>3</td>\n",
       "      <td>5</td>\n",
       "    </tr>\n",
       "    <tr>\n",
       "      <th>18674</th>\n",
       "      <td>B00008JOL0</td>\n",
       "      <td>Chris</td>\n",
       "      <td>5</td>\n",
       "      <td>Zuke's is the best and my dog loves to eat the...</td>\n",
       "      <td>0</td>\n",
       "      <td>0</td>\n",
       "    </tr>\n",
       "    <tr>\n",
       "      <th>21217</th>\n",
       "      <td>B002QWP89S</td>\n",
       "      <td>Chris</td>\n",
       "      <td>5</td>\n",
       "      <td>Molly and Cocoa, our cocker spaniels, said to ...</td>\n",
       "      <td>0</td>\n",
       "      <td>0</td>\n",
       "    </tr>\n",
       "    <tr>\n",
       "      <th>21607</th>\n",
       "      <td>B002QWP89S</td>\n",
       "      <td>Chris</td>\n",
       "      <td>5</td>\n",
       "      <td>I am happy with the service of this company.  ...</td>\n",
       "      <td>1</td>\n",
       "      <td>1</td>\n",
       "    </tr>\n",
       "    <tr>\n",
       "      <th>26212</th>\n",
       "      <td>B0058AMY74</td>\n",
       "      <td>Chris</td>\n",
       "      <td>4</td>\n",
       "      <td>This kettle chips taste \"Good , Crispy &amp; Crunc...</td>\n",
       "      <td>0</td>\n",
       "      <td>0</td>\n",
       "    </tr>\n",
       "    <tr>\n",
       "      <th>26717</th>\n",
       "      <td>B001IZG6P4</td>\n",
       "      <td>Chris</td>\n",
       "      <td>5</td>\n",
       "      <td>These are the best peppercorns for the money I...</td>\n",
       "      <td>0</td>\n",
       "      <td>0</td>\n",
       "    </tr>\n",
       "    <tr>\n",
       "      <th>30041</th>\n",
       "      <td>B000DZFMEQ</td>\n",
       "      <td>Chris</td>\n",
       "      <td>5</td>\n",
       "      <td>My wife is gluten and dairy intolerant and we ...</td>\n",
       "      <td>0</td>\n",
       "      <td>0</td>\n",
       "    </tr>\n",
       "    <tr>\n",
       "      <th>32735</th>\n",
       "      <td>B0083QJU72</td>\n",
       "      <td>Chris</td>\n",
       "      <td>3</td>\n",
       "      <td>Having grown up in sugar maple country and bou...</td>\n",
       "      <td>168</td>\n",
       "      <td>192</td>\n",
       "    </tr>\n",
       "    <tr>\n",
       "      <th>36181</th>\n",
       "      <td>B000ILKXP8</td>\n",
       "      <td>Chris</td>\n",
       "      <td>3</td>\n",
       "      <td>I've seen some reviewers commenting on the sug...</td>\n",
       "      <td>3</td>\n",
       "      <td>3</td>\n",
       "    </tr>\n",
       "    <tr>\n",
       "      <th>38414</th>\n",
       "      <td>B002QK0RJG</td>\n",
       "      <td>Chris</td>\n",
       "      <td>5</td>\n",
       "      <td>&lt;a href=\"http://www.amazon.com/gp/product/B004...</td>\n",
       "      <td>0</td>\n",
       "      <td>0</td>\n",
       "    </tr>\n",
       "    <tr>\n",
       "      <th>41755</th>\n",
       "      <td>B0000D8DI0</td>\n",
       "      <td>Chris</td>\n",
       "      <td>4</td>\n",
       "      <td>This is excellent chocolate.  Hachez is a qual...</td>\n",
       "      <td>0</td>\n",
       "      <td>0</td>\n",
       "    </tr>\n",
       "    <tr>\n",
       "      <th>43455</th>\n",
       "      <td>B001EQ4P2I</td>\n",
       "      <td>Chris</td>\n",
       "      <td>5</td>\n",
       "      <td>I'm a big fan of Blue Diamond brand Almonds. I...</td>\n",
       "      <td>0</td>\n",
       "      <td>0</td>\n",
       "    </tr>\n",
       "    <tr>\n",
       "      <th>43457</th>\n",
       "      <td>B001EQ4P2I</td>\n",
       "      <td>Chris</td>\n",
       "      <td>5</td>\n",
       "      <td>I'm a big fan of the Blue Diamond brand almond...</td>\n",
       "      <td>0</td>\n",
       "      <td>0</td>\n",
       "    </tr>\n",
       "    <tr>\n",
       "      <th>43524</th>\n",
       "      <td>B001EQ4P2I</td>\n",
       "      <td>Chris</td>\n",
       "      <td>3</td>\n",
       "      <td>To start, I'm a big fan of Blue Diamond brand ...</td>\n",
       "      <td>0</td>\n",
       "      <td>1</td>\n",
       "    </tr>\n",
       "    <tr>\n",
       "      <th>46281</th>\n",
       "      <td>B001EO5KSS</td>\n",
       "      <td>Chris</td>\n",
       "      <td>4</td>\n",
       "      <td>These are great!  Our whole family likes them....</td>\n",
       "      <td>0</td>\n",
       "      <td>0</td>\n",
       "    </tr>\n",
       "    <tr>\n",
       "      <th>49031</th>\n",
       "      <td>B000X1F9XY</td>\n",
       "      <td>Chris</td>\n",
       "      <td>1</td>\n",
       "      <td>2 of my 3 dogs destroyed these in less than 30...</td>\n",
       "      <td>1</td>\n",
       "      <td>1</td>\n",
       "    </tr>\n",
       "  </tbody>\n",
       "</table>\n",
       "</div>"
      ],
      "text/plain": [
       "        ProductId ProfileName  Score  \\\n",
       "151    B00374XSVY       Chris      5   \n",
       "637    B000G6RYNE       Chris      4   \n",
       "729    B008BEGP9W       Chris      4   \n",
       "1006   B002XG21MO       Chris      5   \n",
       "3142   B000FDKQCY       Chris      5   \n",
       "5301   B003OJLCXI       Chris      4   \n",
       "5826   B000633O2C       Chris      5   \n",
       "7424   B005LMLXN0       Chris      5   \n",
       "7653   B000TRFGGM       Chris      4   \n",
       "7812   B00474H936       Chris      4   \n",
       "9712   B001LXYA5Q       Chris      4   \n",
       "14414  B00063KO34       Chris      5   \n",
       "15075  B00113L7KC       Chris      5   \n",
       "15150  B0013E21V8       Chris      5   \n",
       "16240  B007TJGZ54       Chris      5   \n",
       "16546  B003P7WLF2       Chris      1   \n",
       "18674  B00008JOL0       Chris      5   \n",
       "21217  B002QWP89S       Chris      5   \n",
       "21607  B002QWP89S       Chris      5   \n",
       "26212  B0058AMY74       Chris      4   \n",
       "26717  B001IZG6P4       Chris      5   \n",
       "30041  B000DZFMEQ       Chris      5   \n",
       "32735  B0083QJU72       Chris      3   \n",
       "36181  B000ILKXP8       Chris      3   \n",
       "38414  B002QK0RJG       Chris      5   \n",
       "41755  B0000D8DI0       Chris      4   \n",
       "43455  B001EQ4P2I       Chris      5   \n",
       "43457  B001EQ4P2I       Chris      5   \n",
       "43524  B001EQ4P2I       Chris      3   \n",
       "46281  B001EO5KSS       Chris      4   \n",
       "49031  B000X1F9XY       Chris      1   \n",
       "\n",
       "                                                    Text  \\\n",
       "151    Works with chicken fish beef or pork. Fast eas...   \n",
       "637    This kettle chips taste \"Good , Crispy & Crunc...   \n",
       "729    I really like the pineapple shortcakes sold he...   \n",
       "1006   These are just like the animal crackers we eat...   \n",
       "3142   This product is as good as any that I have eve...   \n",
       "5301   I really like this tea, but my husband smelled...   \n",
       "5826   I want to give my cats as much variety as poss...   \n",
       "7424   As a tea-junkie, Runa's traditional guayusa of...   \n",
       "7653   I opened the carton and the plant looked like ...   \n",
       "7812   I have tried almost every kind of \"fake meat\" ...   \n",
       "9712   This stuff works, but be warned the effect doe...   \n",
       "14414  My dogs love these chews. I have 5 dogs - all ...   \n",
       "15075  I love this tea.  I don't profess to be a tea ...   \n",
       "15150  Our family loves this syrup!  I love that it i...   \n",
       "16240  Love the Green Mountain Coffee; tastes great i...   \n",
       "16546  I purchased these in lieu of the V8 Fusions si...   \n",
       "18674  Zuke's is the best and my dog loves to eat the...   \n",
       "21217  Molly and Cocoa, our cocker spaniels, said to ...   \n",
       "21607  I am happy with the service of this company.  ...   \n",
       "26212  This kettle chips taste \"Good , Crispy & Crunc...   \n",
       "26717  These are the best peppercorns for the money I...   \n",
       "30041  My wife is gluten and dairy intolerant and we ...   \n",
       "32735  Having grown up in sugar maple country and bou...   \n",
       "36181  I've seen some reviewers commenting on the sug...   \n",
       "38414  <a href=\"http://www.amazon.com/gp/product/B004...   \n",
       "41755  This is excellent chocolate.  Hachez is a qual...   \n",
       "43455  I'm a big fan of Blue Diamond brand Almonds. I...   \n",
       "43457  I'm a big fan of the Blue Diamond brand almond...   \n",
       "43524  To start, I'm a big fan of Blue Diamond brand ...   \n",
       "46281  These are great!  Our whole family likes them....   \n",
       "49031  2 of my 3 dogs destroyed these in less than 30...   \n",
       "\n",
       "       HelpfulnessNumerator  HelpfulnessDenominator  \n",
       "151                       0                       0  \n",
       "637                       0                       0  \n",
       "729                       0                       0  \n",
       "1006                      0                       0  \n",
       "3142                      0                       0  \n",
       "5301                      1                       1  \n",
       "5826                      1                       2  \n",
       "7424                      1                       1  \n",
       "7653                      0                       0  \n",
       "7812                      0                       0  \n",
       "9712                      0                       0  \n",
       "14414                     0                       0  \n",
       "15075                     0                       0  \n",
       "15150                     1                       1  \n",
       "16240                     0                       0  \n",
       "16546                     3                       5  \n",
       "18674                     0                       0  \n",
       "21217                     0                       0  \n",
       "21607                     1                       1  \n",
       "26212                     0                       0  \n",
       "26717                     0                       0  \n",
       "30041                     0                       0  \n",
       "32735                   168                     192  \n",
       "36181                     3                       3  \n",
       "38414                     0                       0  \n",
       "41755                     0                       0  \n",
       "43455                     0                       0  \n",
       "43457                     0                       0  \n",
       "43524                     0                       1  \n",
       "46281                     0                       0  \n",
       "49031                     1                       1  "
      ]
     },
     "execution_count": 16,
     "metadata": {},
     "output_type": "execute_result"
    }
   ],
   "source": [
    "df_reviews[df_reviews['ProfileName']=='Chris']"
   ]
  },
  {
   "cell_type": "markdown",
   "id": "08ee0ea2",
   "metadata": {},
   "source": [
    "<h3>Plotting Chris' percentage of positive views vs negative reviews</h3>"
   ]
  },
  {
   "cell_type": "code",
   "execution_count": 17,
   "id": "f58048b1",
   "metadata": {},
   "outputs": [],
   "source": [
    "df_chris = df_reviews[df_reviews['ProfileName']=='Chris']"
   ]
  },
  {
   "cell_type": "code",
   "execution_count": 18,
   "id": "d465ead0",
   "metadata": {},
   "outputs": [
    {
     "data": {
      "image/png": "[encoded data removed]",
      "text/plain": [
       "<Figure size 640x480 with 1 Axes>"
      ]
     },
     "metadata": {},
     "output_type": "display_data"
    }
   ],
   "source": [
    "fig, axs = plt.subplots(sharey=True, tight_layout=True)\n",
    "axs.hist(df_chris['Score'], bins=5)\n",
    "plt.xlim([1, 5])\n",
    "plt.xticks(np.arange(1, 6, 1))\n",
    "axs.set_title('Percentage of Positive and Negative Reviews for Chris')\n",
    "axs.set_xlabel('Score')\n",
    "axs.set_ylabel('Frequency')\n",
    "plt.show()"
   ]
  },
  {
   "cell_type": "markdown",
   "id": "cacb4c0f",
   "metadata": {},
   "source": [
    "<h3>Plotting the total reviews</h3>"
   ]
  },
  {
   "cell_type": "code",
   "execution_count": 19,
   "id": "903eff3a",
   "metadata": {},
   "outputs": [
    {
     "data": {
      "image/png": "[encoded data removed]",
      "text/plain": [
       "<Figure size 640x480 with 1 Axes>"
      ]
     },
     "metadata": {},
     "output_type": "display_data"
    }
   ],
   "source": [
    "fig, axs = plt.subplots(sharey=True, tight_layout=True)\n",
    "axs.hist(df_reviews['Score'],bins=5)\n",
    "plt.xlim([1, 5])\n",
    "plt.xticks(np.arange(1, 6, 1))\n",
    "plt.title('Total Reviews')\n",
    "plt.show()"
   ]
  },
  {
   "cell_type": "markdown",
   "id": "aac3e5f0",
   "metadata": {},
   "source": [
    "<h3>Histogram of helpfulness rating</h3>"
   ]
  },
  {
   "cell_type": "code",
   "execution_count": 20,
   "id": "3ecee13e",
   "metadata": {},
   "outputs": [],
   "source": [
    "df_reviews['Percent'] = (df_reviews['HelpfulnessNumerator'] / df_reviews['HelpfulnessDenominator'])*100\n",
    "df_reviews['Percent'].fillna(0,inplace=True)"
   ]
  },
  {
   "cell_type": "code",
   "execution_count": 21,
   "id": "8f5e931a",
   "metadata": {},
   "outputs": [
    {
     "data": {
      "image/png": "[encoded data removed]",
      "text/plain": [
       "<Figure size 640x480 with 1 Axes>"
      ]
     },
     "metadata": {},
     "output_type": "display_data"
    }
   ],
   "source": [
    "fig, axs = plt.subplots(sharey=True, tight_layout=True)\n",
    "axs.hist(df_reviews['Percent'],bins=20)\n",
    "plt.xticks(np.arange(1, 100, 10))\n",
    "plt.title('Histogram of Helpfulness Rating')\n",
    "plt.show()"
   ]
  },
  {
   "cell_type": "code",
   "execution_count": 22,
   "id": "2febc129",
   "metadata": {},
   "outputs": [],
   "source": [
    "df_reviews['Polarity_Rating'] = df_reviews['Score'].apply(lambda x: 'Positive' if x > 3 else 'Negative')"
   ]
  },
  {
   "cell_type": "code",
   "execution_count": 23,
   "id": "8b78ac09",
   "metadata": {
    "scrolled": true
   },
   "outputs": [
    {
     "data": {
      "text/plain": [
       "<Axes: xlabel='Polarity_Rating', ylabel='count'>"
      ]
     },
     "execution_count": 23,
     "metadata": {},
     "output_type": "execute_result"
    },
    {
     "data": {
      "image/png": "[encoded data removed]",
      "text/plain": [
       "<Figure size 640x480 with 1 Axes>"
      ]
     },
     "metadata": {},
     "output_type": "display_data"
    }
   ],
   "source": [
    "sns.countplot(data = df_reviews, x= 'Polarity_Rating')"
   ]
  },
  {
   "cell_type": "code",
   "execution_count": 24,
   "id": "93eac418",
   "metadata": {},
   "outputs": [
    {
     "data": {
      "text/plain": [
       "11582"
      ]
     },
     "execution_count": 24,
     "metadata": {},
     "output_type": "execute_result"
    }
   ],
   "source": [
    "df_reviews[df_reviews['Polarity_Rating'] == 'Negative'].shape[0]"
   ]
  },
  {
   "cell_type": "code",
   "execution_count": 25,
   "id": "c4961e91",
   "metadata": {},
   "outputs": [],
   "source": [
    "data_Positive = df_reviews[df_reviews['Polarity_Rating'] == 'Positive'][0:12500]\n",
    "data_Negative = df_reviews[df_reviews['Polarity_Rating'] == 'Negative']\n",
    "\n",
    "data_Negative_over = data_Negative.sample(20000, replace=True)\n",
    "df_balance_reviews = pd.concat([data_Positive, data_Negative_over], axis=0)"
   ]
  },
  {
   "cell_type": "code",
   "execution_count": 26,
   "id": "bda69222",
   "metadata": {},
   "outputs": [
    {
     "name": "stderr",
     "output_type": "stream",
     "text": [
      "[nltk_data] Downloading package stopwords to\n",
      "[nltk_data]     C:\\Users\\RL\\AppData\\Roaming\\nltk_data...\n",
      "[nltk_data]   Package stopwords is already up-to-date!\n"
     ]
    },
    {
     "data": {
      "text/plain": [
       "True"
      ]
     },
     "execution_count": 26,
     "metadata": {},
     "output_type": "execute_result"
    }
   ],
   "source": [
    "import nltk\n",
    "nltk.download('stopwords')"
   ]
  },
  {
   "cell_type": "code",
   "execution_count": 27,
   "id": "1fba2dca",
   "metadata": {},
   "outputs": [],
   "source": [
    "#Setting the stop words\n",
    "english_stops = set(stopwords.words('english'))"
   ]
  },
  {
   "cell_type": "code",
   "execution_count": 28,
   "id": "dfc46ef4",
   "metadata": {},
   "outputs": [],
   "source": [
    "df = df_balance_reviews\n",
    "x_data = df['Text']       # Reviews/Input\n",
    "y_data = df['Polarity_Rating']    # Sentiment/Output\n",
    "\n",
    "# PRE-PROCESS REVIEW\n",
    "x_data = x_data.replace({'<.*?>': ''}, regex = True)          # remove html tag\n",
    "x_data = x_data.replace({'[^A-Za-z]': ' '}, regex = True)     # remove non alphabet\n",
    "x_data = x_data.apply(lambda review: [w for w in review.split() if w not in english_stops])  # remove stop words\n",
    "x_data = x_data.apply(lambda review: [w.lower() for w in review])   # lower case\n",
    "\n",
    "# ENCODE SENTIMENT -> 0 & 1\n",
    "y_data = y_data.replace('Positive', 1)\n",
    "### simmilarly for y_data\n",
    "y_data = y_data.replace('Negative', 0)"
   ]
  },
  {
   "cell_type": "code",
   "execution_count": 29,
   "id": "7702979a",
   "metadata": {},
   "outputs": [],
   "source": [
    "X_train, X_test, y_train, y_test = train_test_split(x_data, y_data, test_size=0.2, random_state=101)"
   ]
  },
  {
   "cell_type": "code",
   "execution_count": 30,
   "id": "1161f71a",
   "metadata": {},
   "outputs": [],
   "source": [
    "def get_max_length(x_train):\n",
    "    review_length = []\n",
    "    for review in x_train:\n",
    "        review_length.append(len(review))\n",
    "\n",
    "    return int(np.ceil(np.mean(review_length)))"
   ]
  },
  {
   "cell_type": "code",
   "execution_count": 31,
   "id": "360fdd1c",
   "metadata": {},
   "outputs": [
    {
     "name": "stdout",
     "output_type": "stream",
     "text": [
      "48\n"
     ]
    }
   ],
   "source": [
    "max_length = get_max_length(X_train)\n",
    "print(max_length)"
   ]
  },
  {
   "cell_type": "code",
   "execution_count": 32,
   "id": "c1138d8e",
   "metadata": {},
   "outputs": [],
   "source": [
    "# ENCODE REVIEW\n",
    "token = Tokenizer(lower=False)    # False becuase we already did it. \n",
    "token.fit_on_texts(X_train)\n",
    "x_train = token.texts_to_sequences(X_train)\n",
    "x_test = token.texts_to_sequences(X_test)\n",
    "\n",
    "### this is the code to add the pad to x_train\n",
    "x_train = pad_sequences(x_train, maxlen=max_length, padding='post', truncating='post')\n",
    "\n",
    "############# add pad to x_test   ########################### \n",
    "x_test = pad_sequences(x_test, maxlen=max_length, padding='post', truncating='post')\n",
    "\n",
    "total_words = len(token.word_index) + 1   # we need to add 1 because of 0 padding"
   ]
  },
  {
   "cell_type": "code",
   "execution_count": 33,
   "id": "b89558a7",
   "metadata": {},
   "outputs": [
    {
     "name": "stdout",
     "output_type": "stream",
     "text": [
      "WARNING:tensorflow:From C:\\Anaconda\\Lib\\site-packages\\keras\\src\\backend.py:873: The name tf.get_default_graph is deprecated. Please use tf.compat.v1.get_default_graph instead.\n",
      "\n",
      "WARNING:tensorflow:From C:\\Anaconda\\Lib\\site-packages\\keras\\src\\optimizers\\__init__.py:309: The name tf.train.Optimizer is deprecated. Please use tf.compat.v1.train.Optimizer instead.\n",
      "\n"
     ]
    }
   ],
   "source": [
    "# ARCHITECTURE\n",
    "EMBED_DIM = 3200\n",
    "LSTM_OUT = 64\n",
    "\n",
    "#### add the model here:\n",
    "model = Sequential()\n",
    "\n",
    "#model.add(Embedding(input_dim=max_length, output_dim=LSTM_OUT,input_length=max_length))\n",
    "model.add(Embedding(total_words, EMBED_DIM, input_length = max_length))\n",
    "model.add(LSTM(LSTM_OUT))\n",
    "model.add(Dense(units=1, activation='sigmoid'))\n",
    "\n",
    "### compile the model using: optimizer = 'adam', loss = 'binary_crossentropy', metrics = ['accuracy']\n",
    "model.compile(optimizer='adam', loss='binary_crossentropy', metrics=['accuracy'])\n",
    "\n",
    "#Adding a Checkpoint to save the model.\n",
    "checkpoint = ModelCheckpoint('models/LSTM.h5', monitor='accuracy', save_best_only=True, verbose=1)"
   ]
  },
  {
   "cell_type": "code",
   "execution_count": 34,
   "id": "a01b7a4d",
   "metadata": {},
   "outputs": [
    {
     "name": "stdout",
     "output_type": "stream",
     "text": [
      "Model: \"sequential\"\n",
      "_________________________________________________________________\n",
      " Layer (type)                Output Shape              Param #   \n",
      "=================================================================\n",
      " embedding (Embedding)       (None, 48, 3200)          84083200  \n",
      "                                                                 \n",
      " lstm (LSTM)                 (None, 64)                835840    \n",
      "                                                                 \n",
      " dense (Dense)               (None, 1)                 65        \n",
      "                                                                 \n",
      "=================================================================\n",
      "Total params: 84919105 (323.94 MB)\n",
      "Trainable params: 84919105 (323.94 MB)\n",
      "Non-trainable params: 0 (0.00 Byte)\n",
      "_________________________________________________________________\n"
     ]
    }
   ],
   "source": [
    "model.summary()"
   ]
  },
  {
   "cell_type": "code",
   "execution_count": 35,
   "id": "6d160cc4",
   "metadata": {},
   "outputs": [
    {
     "name": "stdout",
     "output_type": "stream",
     "text": [
      "Epoch 1/6\n",
      "WARNING:tensorflow:From C:\\Anaconda\\Lib\\site-packages\\keras\\src\\utils\\tf_utils.py:492: The name tf.ragged.RaggedTensorValue is deprecated. Please use tf.compat.v1.ragged.RaggedTensorValue instead.\n",
      "\n",
      "WARNING:tensorflow:From C:\\Anaconda\\Lib\\site-packages\\keras\\src\\engine\\base_layer_utils.py:384: The name tf.executing_eagerly_outside_functions is deprecated. Please use tf.compat.v1.executing_eagerly_outside_functions instead.\n",
      "\n",
      "1300/1300 [==============================] - ETA: 0s - loss: 0.4488 - accuracy: 0.7871\n",
      "Epoch 1: accuracy improved from -inf to 0.78708, saving model to models\\LSTM.h5\n",
      "1300/1300 [==============================] - 722s 550ms/step - loss: 0.4488 - accuracy: 0.7871 - val_loss: 0.3165 - val_accuracy: 0.8706\n",
      "Epoch 2/6\n",
      "1300/1300 [==============================] - ETA: 0s - loss: 0.1882 - accuracy: 0.9298\n",
      "Epoch 2: accuracy improved from 0.78708 to 0.92981, saving model to models\\LSTM.h5\n",
      "1300/1300 [==============================] - 707s 544ms/step - loss: 0.1882 - accuracy: 0.9298 - val_loss: 0.2889 - val_accuracy: 0.8880\n",
      "Epoch 3/6\n",
      "1300/1300 [==============================] - ETA: 0s - loss: 0.0871 - accuracy: 0.9716\n",
      "Epoch 3: accuracy improved from 0.92981 to 0.97158, saving model to models\\LSTM.h5\n",
      "1300/1300 [==============================] - 834s 641ms/step - loss: 0.0871 - accuracy: 0.9716 - val_loss: 0.3048 - val_accuracy: 0.9006\n",
      "Epoch 4/6\n",
      "1300/1300 [==============================] - ETA: 0s - loss: 0.0451 - accuracy: 0.9853\n",
      "Epoch 4: accuracy improved from 0.97158 to 0.98531, saving model to models\\LSTM.h5\n",
      "1300/1300 [==============================] - 902s 694ms/step - loss: 0.0451 - accuracy: 0.9853 - val_loss: 0.4040 - val_accuracy: 0.8922\n",
      "Epoch 5/6\n",
      "1300/1300 [==============================] - ETA: 0s - loss: 0.0220 - accuracy: 0.9935\n",
      "Epoch 5: accuracy improved from 0.98531 to 0.99354, saving model to models\\LSTM.h5\n",
      "1300/1300 [==============================] - 801s 616ms/step - loss: 0.0220 - accuracy: 0.9935 - val_loss: 0.4108 - val_accuracy: 0.9106\n",
      "Epoch 6/6\n",
      "1300/1300 [==============================] - ETA: 0s - loss: 0.0160 - accuracy: 0.9953\n",
      "Epoch 6: accuracy improved from 0.99354 to 0.99527, saving model to models\\LSTM.h5\n",
      "1300/1300 [==============================] - 775s 596ms/step - loss: 0.0160 - accuracy: 0.9953 - val_loss: 0.4495 - val_accuracy: 0.9083\n"
     ]
    }
   ],
   "source": [
    "# Fit the model\n",
    "history = model.fit(x_train, y_train, epochs=6, batch_size=20, callbacks= [checkpoint],validation_data=(x_test, y_test))"
   ]
  },
  {
   "cell_type": "code",
   "execution_count": 36,
   "id": "a539dd7b",
   "metadata": {},
   "outputs": [
    {
     "data": {
      "text/plain": [
       "<matplotlib.legend.Legend at 0x238c30a1450>"
      ]
     },
     "execution_count": 36,
     "metadata": {},
     "output_type": "execute_result"
    },
    {
     "data": {
      "image/png": "[encoded data removed]",
      "text/plain": [
       "<Figure size 1200x600 with 1 Axes>"
      ]
     },
     "metadata": {},
     "output_type": "display_data"
    }
   ],
   "source": [
    "plt.figure(figsize=(12,6))\n",
    "plt.plot(model.history.history['loss'][:])\n",
    "plt.plot(model.history.history['val_loss'][:])\n",
    "plt.title('Model loss')\n",
    "plt.xlabel('epoch')\n",
    "plt.ylabel('loss (categorical_crossentropy)')\n",
    "plt.legend(['Train', 'Val'], loc='upper right')"
   ]
  },
  {
   "cell_type": "code",
   "execution_count": 37,
   "id": "113250e6",
   "metadata": {},
   "outputs": [
    {
     "data": {
      "image/png": "[encoded data removed]",
      "text/plain": [
       "<Figure size 1200x600 with 1 Axes>"
      ]
     },
     "metadata": {},
     "output_type": "display_data"
    }
   ],
   "source": [
    "plt.figure(figsize=(12,6))\n",
    "plt.plot(model.history.history['accuracy'][:])\n",
    "plt.plot(model.history.history['val_accuracy'][:])\n",
    "plt.title('Model accuracy')\n",
    "plt.ylabel('Accuracy')\n",
    "plt.xlabel('Epoch')\n",
    "plt.legend(['Train', 'Val'], loc='upper right')\n",
    "plt.show()"
   ]
  },
  {
   "cell_type": "code",
   "execution_count": 38,
   "id": "02c72a9b",
   "metadata": {},
   "outputs": [
    {
     "data": {
      "text/plain": [
       "ProductId                                                        B0028C44Z0\n",
       "ProfileName                                                             Lou\n",
       "Score                                                                     2\n",
       "Text                      Even with small containers, they don't fill th...\n",
       "HelpfulnessNumerator                                                      0\n",
       "HelpfulnessDenominator                                                    0\n",
       "Percent                                                                 0.0\n",
       "Polarity_Rating                                                    Negative\n",
       "Name: 200, dtype: object"
      ]
     },
     "execution_count": 38,
     "metadata": {},
     "output_type": "execute_result"
    }
   ],
   "source": [
    "#I grab a random review from the dataframe\n",
    "value = 200\n",
    "df_reviews.iloc[value]"
   ]
  },
  {
   "cell_type": "code",
   "execution_count": 39,
   "id": "2a4df4a8",
   "metadata": {},
   "outputs": [
    {
     "data": {
      "text/plain": [
       "\"Even with small containers, they don't fill them up.  These little tins are less than half filled and at the price charged it seems a rip-off. Is there some exotic ingredient as costly as gold contained in those tiny squares?  Or how about the cereal ploy, they were filled at the factory but settled in transport.<br />Can manufacturers be honest in their dealings?\""
      ]
     },
     "execution_count": 39,
     "metadata": {},
     "output_type": "execute_result"
    }
   ],
   "source": [
    "df_reviews.iloc[value]['Text']"
   ]
  },
  {
   "cell_type": "code",
   "execution_count": 40,
   "id": "30a5b3d6",
   "metadata": {},
   "outputs": [],
   "source": [
    "review = df_reviews.iloc[value]['Text']\n",
    "\n",
    "regex = re.compile(r'[^a-zA-Z\\s]')\n",
    "review = regex.sub('', review)\n",
    "\n",
    "words = review.split(' ')\n",
    "filtered = [w for w in words if w not in english_stops]\n",
    "filtered = ' '.join(filtered)\n",
    "filtered = [filtered.lower()]"
   ]
  },
  {
   "cell_type": "code",
   "execution_count": 41,
   "id": "d8336551",
   "metadata": {},
   "outputs": [],
   "source": [
    "tokenize_words = token.texts_to_sequences(filtered)\n",
    "tokenize_words = pad_sequences(tokenize_words, maxlen=max_length, padding='post', truncating='post')"
   ]
  },
  {
   "cell_type": "code",
   "execution_count": 42,
   "id": "d41eddb7",
   "metadata": {},
   "outputs": [
    {
     "name": "stdout",
     "output_type": "stream",
     "text": [
      "1/1 [==============================] - 1s 631ms/step\n",
      "Negative\n"
     ]
    }
   ],
   "source": [
    "result = model.predict(tokenize_words)\n",
    "\n",
    "if result >= .50:\n",
    "    print('Postive')\n",
    "else:\n",
    "    print('Negative')"
   ]
  },
  {
   "cell_type": "code",
   "execution_count": 43,
   "id": "9e319c1d",
   "metadata": {},
   "outputs": [],
   "source": [
    "#Making an Unique Numeric ID for all the users\n",
    "df_reviews['UserID'] = pd.factorize(df_reviews['ProfileName'])[0] + 1"
   ]
  },
  {
   "cell_type": "code",
   "execution_count": 44,
   "id": "f76c2cd0",
   "metadata": {},
   "outputs": [
    {
     "data": {
      "text/html": [
       "<div>\n",
       "<style scoped>\n",
       "    .dataframe tbody tr th:only-of-type {\n",
       "        vertical-align: middle;\n",
       "    }\n",
       "\n",
       "    .dataframe tbody tr th {\n",
       "        vertical-align: top;\n",
       "    }\n",
       "\n",
       "    .dataframe thead th {\n",
       "        text-align: right;\n",
       "    }\n",
       "</style>\n",
       "<table border=\"1\" class=\"dataframe\">\n",
       "  <thead>\n",
       "    <tr style=\"text-align: right;\">\n",
       "      <th></th>\n",
       "      <th>ProductId</th>\n",
       "      <th>ProfileName</th>\n",
       "      <th>Score</th>\n",
       "      <th>Text</th>\n",
       "      <th>HelpfulnessNumerator</th>\n",
       "      <th>HelpfulnessDenominator</th>\n",
       "      <th>Percent</th>\n",
       "      <th>Polarity_Rating</th>\n",
       "      <th>UserID</th>\n",
       "    </tr>\n",
       "  </thead>\n",
       "  <tbody>\n",
       "    <tr>\n",
       "      <th>151</th>\n",
       "      <td>B00374XSVY</td>\n",
       "      <td>Chris</td>\n",
       "      <td>5</td>\n",
       "      <td>Works with chicken fish beef or pork. Fast eas...</td>\n",
       "      <td>0</td>\n",
       "      <td>0</td>\n",
       "      <td>0.0</td>\n",
       "      <td>Positive</td>\n",
       "      <td>151</td>\n",
       "    </tr>\n",
       "    <tr>\n",
       "      <th>637</th>\n",
       "      <td>B000G6RYNE</td>\n",
       "      <td>Chris</td>\n",
       "      <td>4</td>\n",
       "      <td>This kettle chips taste \"Good , Crispy &amp; Crunc...</td>\n",
       "      <td>0</td>\n",
       "      <td>0</td>\n",
       "      <td>0.0</td>\n",
       "      <td>Positive</td>\n",
       "      <td>151</td>\n",
       "    </tr>\n",
       "    <tr>\n",
       "      <th>729</th>\n",
       "      <td>B008BEGP9W</td>\n",
       "      <td>Chris</td>\n",
       "      <td>4</td>\n",
       "      <td>I really like the pineapple shortcakes sold he...</td>\n",
       "      <td>0</td>\n",
       "      <td>0</td>\n",
       "      <td>0.0</td>\n",
       "      <td>Positive</td>\n",
       "      <td>151</td>\n",
       "    </tr>\n",
       "    <tr>\n",
       "      <th>1006</th>\n",
       "      <td>B002XG21MO</td>\n",
       "      <td>Chris</td>\n",
       "      <td>5</td>\n",
       "      <td>These are just like the animal crackers we eat...</td>\n",
       "      <td>0</td>\n",
       "      <td>0</td>\n",
       "      <td>0.0</td>\n",
       "      <td>Positive</td>\n",
       "      <td>151</td>\n",
       "    </tr>\n",
       "    <tr>\n",
       "      <th>3142</th>\n",
       "      <td>B000FDKQCY</td>\n",
       "      <td>Chris</td>\n",
       "      <td>5</td>\n",
       "      <td>This product is as good as any that I have eve...</td>\n",
       "      <td>0</td>\n",
       "      <td>0</td>\n",
       "      <td>0.0</td>\n",
       "      <td>Positive</td>\n",
       "      <td>151</td>\n",
       "    </tr>\n",
       "  </tbody>\n",
       "</table>\n",
       "</div>"
      ],
      "text/plain": [
       "       ProductId ProfileName  Score  \\\n",
       "151   B00374XSVY       Chris      5   \n",
       "637   B000G6RYNE       Chris      4   \n",
       "729   B008BEGP9W       Chris      4   \n",
       "1006  B002XG21MO       Chris      5   \n",
       "3142  B000FDKQCY       Chris      5   \n",
       "\n",
       "                                                   Text  HelpfulnessNumerator  \\\n",
       "151   Works with chicken fish beef or pork. Fast eas...                     0   \n",
       "637   This kettle chips taste \"Good , Crispy & Crunc...                     0   \n",
       "729   I really like the pineapple shortcakes sold he...                     0   \n",
       "1006  These are just like the animal crackers we eat...                     0   \n",
       "3142  This product is as good as any that I have eve...                     0   \n",
       "\n",
       "      HelpfulnessDenominator  Percent Polarity_Rating  UserID  \n",
       "151                        0      0.0        Positive     151  \n",
       "637                        0      0.0        Positive     151  \n",
       "729                        0      0.0        Positive     151  \n",
       "1006                       0      0.0        Positive     151  \n",
       "3142                       0      0.0        Positive     151  "
      ]
     },
     "execution_count": 44,
     "metadata": {},
     "output_type": "execute_result"
    }
   ],
   "source": [
    "df_reviews[df_reviews['UserID'] == 151].head()"
   ]
  },
  {
   "cell_type": "code",
   "execution_count": 45,
   "id": "0dfa8144",
   "metadata": {},
   "outputs": [
    {
     "name": "stdout",
     "output_type": "stream",
     "text": [
      "Removed Dulipcated, Total Reviews 49283\n",
      "Total Reviews 50000\n"
     ]
    }
   ],
   "source": [
    "#I had to clean the data some more, some review went back and review the same item mulitple times as a follow up.\n",
    "cleaned = df_reviews.drop_duplicates(subset=['ProductId', 'UserID'], keep='last')\n",
    "\n",
    "print('Removed Dulipcated, Total Reviews {}'.format(cleaned.shape[0]))\n",
    "print('Total Reviews {}'.format(df_reviews.shape[0]))"
   ]
  },
  {
   "cell_type": "code",
   "execution_count": 46,
   "id": "5fdaad0f",
   "metadata": {},
   "outputs": [
    {
     "data": {
      "text/html": [
       "<div>\n",
       "<style scoped>\n",
       "    .dataframe tbody tr th:only-of-type {\n",
       "        vertical-align: middle;\n",
       "    }\n",
       "\n",
       "    .dataframe tbody tr th {\n",
       "        vertical-align: top;\n",
       "    }\n",
       "\n",
       "    .dataframe thead th {\n",
       "        text-align: right;\n",
       "    }\n",
       "</style>\n",
       "<table border=\"1\" class=\"dataframe\">\n",
       "  <thead>\n",
       "    <tr style=\"text-align: right;\">\n",
       "      <th></th>\n",
       "      <th>ProductId</th>\n",
       "      <th>ProfileName</th>\n",
       "      <th>Score</th>\n",
       "      <th>Text</th>\n",
       "      <th>HelpfulnessNumerator</th>\n",
       "      <th>HelpfulnessDenominator</th>\n",
       "      <th>Percent</th>\n",
       "      <th>Polarity_Rating</th>\n",
       "      <th>UserID</th>\n",
       "    </tr>\n",
       "  </thead>\n",
       "  <tbody>\n",
       "    <tr>\n",
       "      <th>0</th>\n",
       "      <td>B001E4KFG0</td>\n",
       "      <td>delmartian</td>\n",
       "      <td>5</td>\n",
       "      <td>I have bought several of the Vitality canned d...</td>\n",
       "      <td>1</td>\n",
       "      <td>1</td>\n",
       "      <td>100.0</td>\n",
       "      <td>Positive</td>\n",
       "      <td>1</td>\n",
       "    </tr>\n",
       "    <tr>\n",
       "      <th>1</th>\n",
       "      <td>B00813GRG4</td>\n",
       "      <td>dll pa</td>\n",
       "      <td>1</td>\n",
       "      <td>Product arrived labeled as Jumbo Salted Peanut...</td>\n",
       "      <td>0</td>\n",
       "      <td>0</td>\n",
       "      <td>0.0</td>\n",
       "      <td>Negative</td>\n",
       "      <td>2</td>\n",
       "    </tr>\n",
       "    <tr>\n",
       "      <th>2</th>\n",
       "      <td>B000LQOCH0</td>\n",
       "      <td>Natalia Corres \"Natalia Corres\"</td>\n",
       "      <td>4</td>\n",
       "      <td>This is a confection that has been around a fe...</td>\n",
       "      <td>1</td>\n",
       "      <td>1</td>\n",
       "      <td>100.0</td>\n",
       "      <td>Positive</td>\n",
       "      <td>3</td>\n",
       "    </tr>\n",
       "    <tr>\n",
       "      <th>3</th>\n",
       "      <td>B000UA0QIQ</td>\n",
       "      <td>Karl</td>\n",
       "      <td>2</td>\n",
       "      <td>If you are looking for the secret ingredient i...</td>\n",
       "      <td>3</td>\n",
       "      <td>3</td>\n",
       "      <td>100.0</td>\n",
       "      <td>Negative</td>\n",
       "      <td>4</td>\n",
       "    </tr>\n",
       "    <tr>\n",
       "      <th>4</th>\n",
       "      <td>B006K2ZZ7K</td>\n",
       "      <td>Michael D. Bigham \"M. Wassir\"</td>\n",
       "      <td>5</td>\n",
       "      <td>Great taffy at a great price.  There was a wid...</td>\n",
       "      <td>0</td>\n",
       "      <td>0</td>\n",
       "      <td>0.0</td>\n",
       "      <td>Positive</td>\n",
       "      <td>5</td>\n",
       "    </tr>\n",
       "  </tbody>\n",
       "</table>\n",
       "</div>"
      ],
      "text/plain": [
       "    ProductId                      ProfileName  Score  \\\n",
       "0  B001E4KFG0                       delmartian      5   \n",
       "1  B00813GRG4                           dll pa      1   \n",
       "2  B000LQOCH0  Natalia Corres \"Natalia Corres\"      4   \n",
       "3  B000UA0QIQ                             Karl      2   \n",
       "4  B006K2ZZ7K    Michael D. Bigham \"M. Wassir\"      5   \n",
       "\n",
       "                                                Text  HelpfulnessNumerator  \\\n",
       "0  I have bought several of the Vitality canned d...                     1   \n",
       "1  Product arrived labeled as Jumbo Salted Peanut...                     0   \n",
       "2  This is a confection that has been around a fe...                     1   \n",
       "3  If you are looking for the secret ingredient i...                     3   \n",
       "4  Great taffy at a great price.  There was a wid...                     0   \n",
       "\n",
       "   HelpfulnessDenominator  Percent Polarity_Rating  UserID  \n",
       "0                       1    100.0        Positive       1  \n",
       "1                       0      0.0        Negative       2  \n",
       "2                       1    100.0        Positive       3  \n",
       "3                       3    100.0        Negative       4  \n",
       "4                       0      0.0        Positive       5  "
      ]
     },
     "execution_count": 46,
     "metadata": {},
     "output_type": "execute_result"
    }
   ],
   "source": [
    "cleaned.head()"
   ]
  },
  {
   "cell_type": "code",
   "execution_count": 47,
   "id": "c6918c5e",
   "metadata": {},
   "outputs": [],
   "source": [
    "user_rating_df = cleaned.pivot(index='UserID', columns='ProductId', values='Score')"
   ]
  },
  {
   "cell_type": "code",
   "execution_count": 48,
   "id": "360b110b",
   "metadata": {},
   "outputs": [
    {
     "data": {
      "text/html": [
       "<div>\n",
       "<style scoped>\n",
       "    .dataframe tbody tr th:only-of-type {\n",
       "        vertical-align: middle;\n",
       "    }\n",
       "\n",
       "    .dataframe tbody tr th {\n",
       "        vertical-align: top;\n",
       "    }\n",
       "\n",
       "    .dataframe thead th {\n",
       "        text-align: right;\n",
       "    }\n",
       "</style>\n",
       "<table border=\"1\" class=\"dataframe\">\n",
       "  <thead>\n",
       "    <tr style=\"text-align: right;\">\n",
       "      <th>ProductId</th>\n",
       "      <th>2734888454</th>\n",
       "      <th>B00002NCJC</th>\n",
       "      <th>B00002Z754</th>\n",
       "      <th>B00005V3DC</th>\n",
       "      <th>B000084DVR</th>\n",
       "      <th>B000084E1U</th>\n",
       "      <th>B000084EK4</th>\n",
       "      <th>B000084EK5</th>\n",
       "      <th>B000084EK6</th>\n",
       "      <th>B000084EK7</th>\n",
       "      <th>...</th>\n",
       "      <th>B009DR3GYI</th>\n",
       "      <th>B009GUDRDM</th>\n",
       "      <th>B009HINRX8</th>\n",
       "      <th>B009KAQZ9G</th>\n",
       "      <th>B009KOHGEK</th>\n",
       "      <th>B009KP6HBM</th>\n",
       "      <th>B009NTCO4O</th>\n",
       "      <th>B009O7B1I0</th>\n",
       "      <th>B009UOFU20</th>\n",
       "      <th>B009WSNWC4</th>\n",
       "    </tr>\n",
       "    <tr>\n",
       "      <th>UserID</th>\n",
       "      <th></th>\n",
       "      <th></th>\n",
       "      <th></th>\n",
       "      <th></th>\n",
       "      <th></th>\n",
       "      <th></th>\n",
       "      <th></th>\n",
       "      <th></th>\n",
       "      <th></th>\n",
       "      <th></th>\n",
       "      <th></th>\n",
       "      <th></th>\n",
       "      <th></th>\n",
       "      <th></th>\n",
       "      <th></th>\n",
       "      <th></th>\n",
       "      <th></th>\n",
       "      <th></th>\n",
       "      <th></th>\n",
       "      <th></th>\n",
       "      <th></th>\n",
       "    </tr>\n",
       "  </thead>\n",
       "  <tbody>\n",
       "    <tr>\n",
       "      <th>0</th>\n",
       "      <td>NaN</td>\n",
       "      <td>NaN</td>\n",
       "      <td>NaN</td>\n",
       "      <td>NaN</td>\n",
       "      <td>NaN</td>\n",
       "      <td>NaN</td>\n",
       "      <td>NaN</td>\n",
       "      <td>NaN</td>\n",
       "      <td>NaN</td>\n",
       "      <td>NaN</td>\n",
       "      <td>...</td>\n",
       "      <td>NaN</td>\n",
       "      <td>NaN</td>\n",
       "      <td>NaN</td>\n",
       "      <td>NaN</td>\n",
       "      <td>NaN</td>\n",
       "      <td>NaN</td>\n",
       "      <td>NaN</td>\n",
       "      <td>NaN</td>\n",
       "      <td>NaN</td>\n",
       "      <td>NaN</td>\n",
       "    </tr>\n",
       "    <tr>\n",
       "      <th>1</th>\n",
       "      <td>NaN</td>\n",
       "      <td>NaN</td>\n",
       "      <td>NaN</td>\n",
       "      <td>NaN</td>\n",
       "      <td>NaN</td>\n",
       "      <td>NaN</td>\n",
       "      <td>NaN</td>\n",
       "      <td>NaN</td>\n",
       "      <td>NaN</td>\n",
       "      <td>NaN</td>\n",
       "      <td>...</td>\n",
       "      <td>NaN</td>\n",
       "      <td>NaN</td>\n",
       "      <td>NaN</td>\n",
       "      <td>NaN</td>\n",
       "      <td>NaN</td>\n",
       "      <td>NaN</td>\n",
       "      <td>NaN</td>\n",
       "      <td>NaN</td>\n",
       "      <td>NaN</td>\n",
       "      <td>NaN</td>\n",
       "    </tr>\n",
       "    <tr>\n",
       "      <th>2</th>\n",
       "      <td>NaN</td>\n",
       "      <td>NaN</td>\n",
       "      <td>NaN</td>\n",
       "      <td>NaN</td>\n",
       "      <td>NaN</td>\n",
       "      <td>NaN</td>\n",
       "      <td>NaN</td>\n",
       "      <td>NaN</td>\n",
       "      <td>NaN</td>\n",
       "      <td>NaN</td>\n",
       "      <td>...</td>\n",
       "      <td>NaN</td>\n",
       "      <td>NaN</td>\n",
       "      <td>NaN</td>\n",
       "      <td>NaN</td>\n",
       "      <td>NaN</td>\n",
       "      <td>NaN</td>\n",
       "      <td>NaN</td>\n",
       "      <td>NaN</td>\n",
       "      <td>NaN</td>\n",
       "      <td>NaN</td>\n",
       "    </tr>\n",
       "    <tr>\n",
       "      <th>3</th>\n",
       "      <td>NaN</td>\n",
       "      <td>NaN</td>\n",
       "      <td>NaN</td>\n",
       "      <td>NaN</td>\n",
       "      <td>NaN</td>\n",
       "      <td>NaN</td>\n",
       "      <td>NaN</td>\n",
       "      <td>NaN</td>\n",
       "      <td>NaN</td>\n",
       "      <td>NaN</td>\n",
       "      <td>...</td>\n",
       "      <td>NaN</td>\n",
       "      <td>NaN</td>\n",
       "      <td>NaN</td>\n",
       "      <td>NaN</td>\n",
       "      <td>NaN</td>\n",
       "      <td>NaN</td>\n",
       "      <td>NaN</td>\n",
       "      <td>NaN</td>\n",
       "      <td>NaN</td>\n",
       "      <td>NaN</td>\n",
       "    </tr>\n",
       "    <tr>\n",
       "      <th>4</th>\n",
       "      <td>NaN</td>\n",
       "      <td>NaN</td>\n",
       "      <td>NaN</td>\n",
       "      <td>NaN</td>\n",
       "      <td>NaN</td>\n",
       "      <td>NaN</td>\n",
       "      <td>NaN</td>\n",
       "      <td>NaN</td>\n",
       "      <td>NaN</td>\n",
       "      <td>NaN</td>\n",
       "      <td>...</td>\n",
       "      <td>NaN</td>\n",
       "      <td>NaN</td>\n",
       "      <td>NaN</td>\n",
       "      <td>NaN</td>\n",
       "      <td>NaN</td>\n",
       "      <td>NaN</td>\n",
       "      <td>NaN</td>\n",
       "      <td>NaN</td>\n",
       "      <td>NaN</td>\n",
       "      <td>NaN</td>\n",
       "    </tr>\n",
       "  </tbody>\n",
       "</table>\n",
       "<p>5 rows × 6115 columns</p>\n",
       "</div>"
      ],
      "text/plain": [
       "ProductId  2734888454  B00002NCJC  B00002Z754  B00005V3DC  B000084DVR  \\\n",
       "UserID                                                                  \n",
       "0                 NaN         NaN         NaN         NaN         NaN   \n",
       "1                 NaN         NaN         NaN         NaN         NaN   \n",
       "2                 NaN         NaN         NaN         NaN         NaN   \n",
       "3                 NaN         NaN         NaN         NaN         NaN   \n",
       "4                 NaN         NaN         NaN         NaN         NaN   \n",
       "\n",
       "ProductId  B000084E1U  B000084EK4  B000084EK5  B000084EK6  B000084EK7  ...  \\\n",
       "UserID                                                                 ...   \n",
       "0                 NaN         NaN         NaN         NaN         NaN  ...   \n",
       "1                 NaN         NaN         NaN         NaN         NaN  ...   \n",
       "2                 NaN         NaN         NaN         NaN         NaN  ...   \n",
       "3                 NaN         NaN         NaN         NaN         NaN  ...   \n",
       "4                 NaN         NaN         NaN         NaN         NaN  ...   \n",
       "\n",
       "ProductId  B009DR3GYI  B009GUDRDM  B009HINRX8  B009KAQZ9G  B009KOHGEK  \\\n",
       "UserID                                                                  \n",
       "0                 NaN         NaN         NaN         NaN         NaN   \n",
       "1                 NaN         NaN         NaN         NaN         NaN   \n",
       "2                 NaN         NaN         NaN         NaN         NaN   \n",
       "3                 NaN         NaN         NaN         NaN         NaN   \n",
       "4                 NaN         NaN         NaN         NaN         NaN   \n",
       "\n",
       "ProductId  B009KP6HBM  B009NTCO4O  B009O7B1I0  B009UOFU20  B009WSNWC4  \n",
       "UserID                                                                 \n",
       "0                 NaN         NaN         NaN         NaN         NaN  \n",
       "1                 NaN         NaN         NaN         NaN         NaN  \n",
       "2                 NaN         NaN         NaN         NaN         NaN  \n",
       "3                 NaN         NaN         NaN         NaN         NaN  \n",
       "4                 NaN         NaN         NaN         NaN         NaN  \n",
       "\n",
       "[5 rows x 6115 columns]"
      ]
     },
     "execution_count": 48,
     "metadata": {},
     "output_type": "execute_result"
    }
   ],
   "source": [
    "user_rating_df.head(5)"
   ]
  },
  {
   "cell_type": "code",
   "execution_count": 49,
   "id": "ca184711",
   "metadata": {},
   "outputs": [],
   "source": [
    "tf.compat.v1.disable_eager_execution()"
   ]
  },
  {
   "cell_type": "code",
   "execution_count": 50,
   "id": "2aae69f9",
   "metadata": {},
   "outputs": [
    {
     "data": {
      "text/plain": [
       "array([[0., 0., 0., ..., 0., 0., 0.],\n",
       "       [0., 0., 0., ..., 0., 0., 0.],\n",
       "       [0., 0., 0., ..., 0., 0., 0.],\n",
       "       [0., 0., 0., ..., 0., 0., 0.],\n",
       "       [0., 0., 0., ..., 0., 0., 0.]])"
      ]
     },
     "execution_count": 50,
     "metadata": {},
     "output_type": "execute_result"
    }
   ],
   "source": [
    "norm_user_rating_df = user_rating_df.fillna(0) / 5.0\n",
    "trX = norm_user_rating_df.values\n",
    "trX[0:5]"
   ]
  },
  {
   "cell_type": "code",
   "execution_count": 51,
   "id": "976f460a",
   "metadata": {},
   "outputs": [
    {
     "name": "stdout",
     "output_type": "stream",
     "text": [
      "WARNING:tensorflow:From C:\\Anaconda\\Lib\\site-packages\\tensorflow\\python\\util\\dispatch.py:1260: to_float (from tensorflow.python.ops.math_ops) is deprecated and will be removed in a future version.\n",
      "Instructions for updating:\n",
      "Use `tf.cast` instead.\n",
      "0.0025635296\n",
      "0.0013016531\n",
      "0.0009061099\n",
      "0.0007227106\n",
      "0.00061612227\n",
      "0.00055364566\n",
      "0.00051163853\n",
      "0.00048007743\n",
      "0.00045839624\n",
      "0.0004471017\n"
     ]
    }
   ],
   "source": [
    "hiddenUnits = 20\n",
    "visibleUnits =  len(user_rating_df.columns)\n",
    "vb = tf.compat.v1.placeholder(\"float\", [visibleUnits])\n",
    "hb = tf.compat.v1.placeholder(\"float\", [hiddenUnits])\n",
    "W = tf.compat.v1.placeholder(\"float\", [visibleUnits, hiddenUnits])\n",
    "\n",
    "# Process phase 1 of a RBM, use v0, _h0, h0\n",
    "v0 = tf.compat.v1.placeholder(\"float\", [None, visibleUnits])\n",
    "_h0 = tf.nn.sigmoid(tf.matmul(v0, W) + hb)\n",
    "h0 = tf.nn.relu(tf.sign(_h0 - tf.random.uniform(tf.shape(input=_h0))))\n",
    "\n",
    "#Phase 2: Reconstruction\n",
    "_v1 = tf.nn.sigmoid(tf.matmul(h0, tf.transpose(W)) + vb) \n",
    "v1 = tf.nn.relu(tf.sign(_v1 - tf.random.uniform(tf.shape(input=_v1))))\n",
    "h1 = tf.nn.sigmoid(tf.matmul(v1, W) + hb)\n",
    "\n",
    "#Learning rate\n",
    "alpha = 1.0\n",
    "\n",
    "w_pos_grad = tf.matmul(tf.transpose(v0), h0)\n",
    "w_neg_grad = tf.matmul(tf.transpose(v1), h1)\n",
    "\n",
    "CD = (w_pos_grad - w_neg_grad) / tf.compat.v1.to_float(tf.shape(v0)[0])\n",
    "\n",
    "update_w = W + alpha * CD\n",
    "update_vb = vb + alpha * tf.reduce_mean(v0 - v1, 0)\n",
    "update_hb = hb + alpha * tf.reduce_mean(h0 - h1, 0)\n",
    "\n",
    "err = v0 - v1\n",
    "err_sum = tf.reduce_mean(err * err)\n",
    "\n",
    "#Current weight\n",
    "cur_w = np.zeros([visibleUnits, hiddenUnits], np.float32)\n",
    "\n",
    "cur_vb = np.zeros([visibleUnits], np.float32)\n",
    "\n",
    "cur_hb = np.zeros([hiddenUnits], np.float32)\n",
    "\n",
    "prv_w = np.zeros([visibleUnits, hiddenUnits], np.float32)\n",
    "\n",
    "prv_vb = np.zeros([visibleUnits], np.float32)\n",
    "\n",
    "prv_hb = np.zeros([hiddenUnits], np.float32)\n",
    "\n",
    "sess = tf.compat.v1.Session()\n",
    "sess.run(tf.compat.v1.global_variables_initializer())\n",
    "\n",
    "\n",
    "# Using a for loop, Run the model, with 10 epochs, batchsize = 100, and errors = []\n",
    "epochs = 10\n",
    "batchsize = 100\n",
    "errors = []\n",
    "for i in range(epochs):\n",
    "    for start, end in zip( range(0, len(trX), batchsize), range(batchsize, len(trX), batchsize)):\n",
    "        batch = trX[start:end]\n",
    "        cur_w = sess.run(update_w, feed_dict={v0: batch, W: prv_w, vb: prv_vb, hb: prv_hb})\n",
    "        cur_vb = sess.run(update_vb, feed_dict={v0: batch, W: prv_w, vb: prv_vb, hb: prv_hb})\n",
    "        cur_nb = sess.run(update_hb, feed_dict={v0: batch, W: prv_w, vb: prv_vb, hb: prv_hb})\n",
    "        prv_w = cur_w\n",
    "        prv_vb = cur_vb\n",
    "        prv_hb = cur_hb\n",
    "    errors.append(sess.run(err_sum, feed_dict={v0: trX, W: cur_w, vb: cur_vb, hb: cur_hb}))\n",
    "    print (errors[-1])"
   ]
  },
  {
   "cell_type": "code",
   "execution_count": 52,
   "id": "6c1d5471",
   "metadata": {},
   "outputs": [
    {
     "data": {
      "image/png": "[encoded data removed]",
      "text/plain": [
       "<Figure size 640x480 with 1 Axes>"
      ]
     },
     "metadata": {},
     "output_type": "display_data"
    }
   ],
   "source": [
    "plt.plot(errors)\n",
    "plt.ylabel('Error')\n",
    "plt.xlabel('Epoch')\n",
    "plt.show()"
   ]
  },
  {
   "cell_type": "code",
   "execution_count": 53,
   "id": "f36c9ce7",
   "metadata": {},
   "outputs": [],
   "source": [
    "mock_user_id = 151"
   ]
  },
  {
   "cell_type": "code",
   "execution_count": 54,
   "id": "5e2f08fd",
   "metadata": {},
   "outputs": [
    {
     "data": {
      "text/plain": [
       "array([[0., 0., 0., ..., 0., 0., 0.]])"
      ]
     },
     "execution_count": 54,
     "metadata": {},
     "output_type": "execute_result"
    }
   ],
   "source": [
    "inputUser = trX[mock_user_id-1].reshape(1, -1)\n",
    "inputUser[0:5]"
   ]
  },
  {
   "cell_type": "code",
   "execution_count": 55,
   "id": "4cded24d",
   "metadata": {},
   "outputs": [],
   "source": [
    "# Feeding in the user and reconstructing the input. use sigmoid\n",
    "hh0 = tf.nn.sigmoid(tf.matmul(v0, W) + hb)\n",
    "vv1 = tf.nn.sigmoid(tf.matmul(hh0, tf.transpose(W)) + vb)\n",
    "feed = sess.run(hh0, feed_dict={ v0: inputUser, W: prv_w, hb: prv_hb})\n",
    "rec = sess.run(vv1, feed_dict={ hh0: feed, W: prv_w, vb: prv_vb})"
   ]
  },
  {
   "cell_type": "code",
   "execution_count": 56,
   "id": "fb5fde61",
   "metadata": {},
   "outputs": [
    {
     "data": {
      "text/html": [
       "<div>\n",
       "<style scoped>\n",
       "    .dataframe tbody tr th:only-of-type {\n",
       "        vertical-align: middle;\n",
       "    }\n",
       "\n",
       "    .dataframe tbody tr th {\n",
       "        vertical-align: top;\n",
       "    }\n",
       "\n",
       "    .dataframe thead th {\n",
       "        text-align: right;\n",
       "    }\n",
       "</style>\n",
       "<table border=\"1\" class=\"dataframe\">\n",
       "  <thead>\n",
       "    <tr style=\"text-align: right;\">\n",
       "      <th></th>\n",
       "      <th>ProductId</th>\n",
       "      <th>RecommendationScore</th>\n",
       "    </tr>\n",
       "  </thead>\n",
       "  <tbody>\n",
       "    <tr>\n",
       "      <th>4063</th>\n",
       "      <td>B001EW5YQS</td>\n",
       "      <td>0.025583</td>\n",
       "    </tr>\n",
       "    <tr>\n",
       "      <th>7321</th>\n",
       "      <td>B0042395CA</td>\n",
       "      <td>0.012464</td>\n",
       "    </tr>\n",
       "    <tr>\n",
       "      <th>45379</th>\n",
       "      <td>B000FVVZ3U</td>\n",
       "      <td>0.008445</td>\n",
       "    </tr>\n",
       "    <tr>\n",
       "      <th>40981</th>\n",
       "      <td>B000IKEGRK</td>\n",
       "      <td>0.005815</td>\n",
       "    </tr>\n",
       "    <tr>\n",
       "      <th>36090</th>\n",
       "      <td>B002DHN1UE</td>\n",
       "      <td>0.005210</td>\n",
       "    </tr>\n",
       "    <tr>\n",
       "      <th>17705</th>\n",
       "      <td>B0010AR1E2</td>\n",
       "      <td>0.004573</td>\n",
       "    </tr>\n",
       "    <tr>\n",
       "      <th>5012</th>\n",
       "      <td>B000HDKZDC</td>\n",
       "      <td>0.004495</td>\n",
       "    </tr>\n",
       "    <tr>\n",
       "      <th>17240</th>\n",
       "      <td>B000I6PZVK</td>\n",
       "      <td>0.004260</td>\n",
       "    </tr>\n",
       "    <tr>\n",
       "      <th>14515</th>\n",
       "      <td>B0016814QO</td>\n",
       "      <td>0.004161</td>\n",
       "    </tr>\n",
       "    <tr>\n",
       "      <th>33278</th>\n",
       "      <td>B001RQAVKK</td>\n",
       "      <td>0.004146</td>\n",
       "    </tr>\n",
       "    <tr>\n",
       "      <th>29077</th>\n",
       "      <td>B000NU8H0C</td>\n",
       "      <td>0.004062</td>\n",
       "    </tr>\n",
       "    <tr>\n",
       "      <th>2950</th>\n",
       "      <td>B003XKKEBE</td>\n",
       "      <td>0.003626</td>\n",
       "    </tr>\n",
       "    <tr>\n",
       "      <th>18894</th>\n",
       "      <td>B003FSPWXY</td>\n",
       "      <td>0.003173</td>\n",
       "    </tr>\n",
       "    <tr>\n",
       "      <th>4701</th>\n",
       "      <td>B0048IPR9Y</td>\n",
       "      <td>0.002770</td>\n",
       "    </tr>\n",
       "    <tr>\n",
       "      <th>17127</th>\n",
       "      <td>B008FSIHNG</td>\n",
       "      <td>0.002756</td>\n",
       "    </tr>\n",
       "    <tr>\n",
       "      <th>13021</th>\n",
       "      <td>B001EPQ8XS</td>\n",
       "      <td>0.002741</td>\n",
       "    </tr>\n",
       "    <tr>\n",
       "      <th>35800</th>\n",
       "      <td>B00290W1CY</td>\n",
       "      <td>0.002572</td>\n",
       "    </tr>\n",
       "    <tr>\n",
       "      <th>13806</th>\n",
       "      <td>B000FFIIYU</td>\n",
       "      <td>0.002498</td>\n",
       "    </tr>\n",
       "    <tr>\n",
       "      <th>19006</th>\n",
       "      <td>B003R0LM48</td>\n",
       "      <td>0.002466</td>\n",
       "    </tr>\n",
       "    <tr>\n",
       "      <th>7881</th>\n",
       "      <td>B000VZJJIS</td>\n",
       "      <td>0.002433</td>\n",
       "    </tr>\n",
       "  </tbody>\n",
       "</table>\n",
       "</div>"
      ],
      "text/plain": [
       "        ProductId  RecommendationScore\n",
       "4063   B001EW5YQS             0.025583\n",
       "7321   B0042395CA             0.012464\n",
       "45379  B000FVVZ3U             0.008445\n",
       "40981  B000IKEGRK             0.005815\n",
       "36090  B002DHN1UE             0.005210\n",
       "17705  B0010AR1E2             0.004573\n",
       "5012   B000HDKZDC             0.004495\n",
       "17240  B000I6PZVK             0.004260\n",
       "14515  B0016814QO             0.004161\n",
       "33278  B001RQAVKK             0.004146\n",
       "29077  B000NU8H0C             0.004062\n",
       "2950   B003XKKEBE             0.003626\n",
       "18894  B003FSPWXY             0.003173\n",
       "4701   B0048IPR9Y             0.002770\n",
       "17127  B008FSIHNG             0.002756\n",
       "13021  B001EPQ8XS             0.002741\n",
       "35800  B00290W1CY             0.002572\n",
       "13806  B000FFIIYU             0.002498\n",
       "19006  B003R0LM48             0.002466\n",
       "7881   B000VZJJIS             0.002433"
      ]
     },
     "execution_count": 56,
     "metadata": {},
     "output_type": "execute_result"
    }
   ],
   "source": [
    "scored_asin_df_mock = cleaned.drop_duplicates(subset=['ProductId'])\n",
    "scored_asin_df_mock = scored_asin_df_mock.assign(RecommendationScore = rec[0])\n",
    "scored_asin_df_mock[['ProductId','RecommendationScore']].sort_values([\"RecommendationScore\"], ascending=False).head(20)"
   ]
  },
  {
   "cell_type": "code",
   "execution_count": 57,
   "id": "9257cebc",
   "metadata": {},
   "outputs": [
    {
     "data": {
      "text/html": [
       "<div>\n",
       "<style scoped>\n",
       "    .dataframe tbody tr th:only-of-type {\n",
       "        vertical-align: middle;\n",
       "    }\n",
       "\n",
       "    .dataframe tbody tr th {\n",
       "        vertical-align: top;\n",
       "    }\n",
       "\n",
       "    .dataframe thead th {\n",
       "        text-align: right;\n",
       "    }\n",
       "</style>\n",
       "<table border=\"1\" class=\"dataframe\">\n",
       "  <thead>\n",
       "    <tr style=\"text-align: right;\">\n",
       "      <th></th>\n",
       "      <th>ProductId</th>\n",
       "      <th>ProfileName</th>\n",
       "      <th>Score</th>\n",
       "      <th>Text</th>\n",
       "      <th>HelpfulnessNumerator</th>\n",
       "      <th>HelpfulnessDenominator</th>\n",
       "      <th>Percent</th>\n",
       "      <th>Polarity_Rating</th>\n",
       "      <th>UserID</th>\n",
       "    </tr>\n",
       "  </thead>\n",
       "  <tbody>\n",
       "    <tr>\n",
       "      <th>151</th>\n",
       "      <td>B00374XSVY</td>\n",
       "      <td>Chris</td>\n",
       "      <td>5</td>\n",
       "      <td>Works with chicken fish beef or pork. Fast eas...</td>\n",
       "      <td>0</td>\n",
       "      <td>0</td>\n",
       "      <td>0.0</td>\n",
       "      <td>Positive</td>\n",
       "      <td>151</td>\n",
       "    </tr>\n",
       "    <tr>\n",
       "      <th>637</th>\n",
       "      <td>B000G6RYNE</td>\n",
       "      <td>Chris</td>\n",
       "      <td>4</td>\n",
       "      <td>This kettle chips taste \"Good , Crispy &amp; Crunc...</td>\n",
       "      <td>0</td>\n",
       "      <td>0</td>\n",
       "      <td>0.0</td>\n",
       "      <td>Positive</td>\n",
       "      <td>151</td>\n",
       "    </tr>\n",
       "    <tr>\n",
       "      <th>729</th>\n",
       "      <td>B008BEGP9W</td>\n",
       "      <td>Chris</td>\n",
       "      <td>4</td>\n",
       "      <td>I really like the pineapple shortcakes sold he...</td>\n",
       "      <td>0</td>\n",
       "      <td>0</td>\n",
       "      <td>0.0</td>\n",
       "      <td>Positive</td>\n",
       "      <td>151</td>\n",
       "    </tr>\n",
       "    <tr>\n",
       "      <th>1006</th>\n",
       "      <td>B002XG21MO</td>\n",
       "      <td>Chris</td>\n",
       "      <td>5</td>\n",
       "      <td>These are just like the animal crackers we eat...</td>\n",
       "      <td>0</td>\n",
       "      <td>0</td>\n",
       "      <td>0.0</td>\n",
       "      <td>Positive</td>\n",
       "      <td>151</td>\n",
       "    </tr>\n",
       "    <tr>\n",
       "      <th>3142</th>\n",
       "      <td>B000FDKQCY</td>\n",
       "      <td>Chris</td>\n",
       "      <td>5</td>\n",
       "      <td>This product is as good as any that I have eve...</td>\n",
       "      <td>0</td>\n",
       "      <td>0</td>\n",
       "      <td>0.0</td>\n",
       "      <td>Positive</td>\n",
       "      <td>151</td>\n",
       "    </tr>\n",
       "  </tbody>\n",
       "</table>\n",
       "</div>"
      ],
      "text/plain": [
       "       ProductId ProfileName  Score  \\\n",
       "151   B00374XSVY       Chris      5   \n",
       "637   B000G6RYNE       Chris      4   \n",
       "729   B008BEGP9W       Chris      4   \n",
       "1006  B002XG21MO       Chris      5   \n",
       "3142  B000FDKQCY       Chris      5   \n",
       "\n",
       "                                                   Text  HelpfulnessNumerator  \\\n",
       "151   Works with chicken fish beef or pork. Fast eas...                     0   \n",
       "637   This kettle chips taste \"Good , Crispy & Crunc...                     0   \n",
       "729   I really like the pineapple shortcakes sold he...                     0   \n",
       "1006  These are just like the animal crackers we eat...                     0   \n",
       "3142  This product is as good as any that I have eve...                     0   \n",
       "\n",
       "      HelpfulnessDenominator  Percent Polarity_Rating  UserID  \n",
       "151                        0      0.0        Positive     151  \n",
       "637                        0      0.0        Positive     151  \n",
       "729                        0      0.0        Positive     151  \n",
       "1006                       0      0.0        Positive     151  \n",
       "3142                       0      0.0        Positive     151  "
      ]
     },
     "execution_count": 57,
     "metadata": {},
     "output_type": "execute_result"
    }
   ],
   "source": [
    "food_df_mock = cleaned[cleaned['UserID'] == 151]\n",
    "food_df_mock.head()"
   ]
  },
  {
   "cell_type": "code",
   "execution_count": 58,
   "id": "726ce621",
   "metadata": {},
   "outputs": [],
   "source": [
    "merged_df_mock = scored_asin_df_mock.merge(food_df_mock, on='ProductId', how='outer')"
   ]
  },
  {
   "cell_type": "code",
   "execution_count": 59,
   "id": "945d383d",
   "metadata": {
    "scrolled": true
   },
   "outputs": [
    {
     "data": {
      "text/html": [
       "<div>\n",
       "<style scoped>\n",
       "    .dataframe tbody tr th:only-of-type {\n",
       "        vertical-align: middle;\n",
       "    }\n",
       "\n",
       "    .dataframe tbody tr th {\n",
       "        vertical-align: top;\n",
       "    }\n",
       "\n",
       "    .dataframe thead th {\n",
       "        text-align: right;\n",
       "    }\n",
       "</style>\n",
       "<table border=\"1\" class=\"dataframe\">\n",
       "  <thead>\n",
       "    <tr style=\"text-align: right;\">\n",
       "      <th></th>\n",
       "      <th>ProductId</th>\n",
       "      <th>RecommendationScore</th>\n",
       "    </tr>\n",
       "  </thead>\n",
       "  <tbody>\n",
       "    <tr>\n",
       "      <th>649</th>\n",
       "      <td>B001EW5YQS</td>\n",
       "      <td>0.025583</td>\n",
       "    </tr>\n",
       "    <tr>\n",
       "      <th>1122</th>\n",
       "      <td>B0042395CA</td>\n",
       "      <td>0.012464</td>\n",
       "    </tr>\n",
       "    <tr>\n",
       "      <th>5653</th>\n",
       "      <td>B000FVVZ3U</td>\n",
       "      <td>0.008445</td>\n",
       "    </tr>\n",
       "    <tr>\n",
       "      <th>5023</th>\n",
       "      <td>B000IKEGRK</td>\n",
       "      <td>0.005815</td>\n",
       "    </tr>\n",
       "    <tr>\n",
       "      <th>4366</th>\n",
       "      <td>B002DHN1UE</td>\n",
       "      <td>0.005210</td>\n",
       "    </tr>\n",
       "  </tbody>\n",
       "</table>\n",
       "</div>"
      ],
      "text/plain": [
       "       ProductId  RecommendationScore\n",
       "649   B001EW5YQS             0.025583\n",
       "1122  B0042395CA             0.012464\n",
       "5653  B000FVVZ3U             0.008445\n",
       "5023  B000IKEGRK             0.005815\n",
       "4366  B002DHN1UE             0.005210"
      ]
     },
     "execution_count": 59,
     "metadata": {},
     "output_type": "execute_result"
    }
   ],
   "source": [
    "merged_df_mock[['ProductId','RecommendationScore']].sort_values([\"RecommendationScore\"], ascending=False).head(5)"
   ]
  },
  {
   "cell_type": "markdown",
   "id": "37168f14",
   "metadata": {},
   "source": [
    "Above are the top 5 items that Chris will be interested in purchasing for reviewing."
   ]
  },
  {
   "cell_type": "markdown",
   "id": "117c0217",
   "metadata": {},
   "source": [
    "### Conclusion"
   ]
  },
  {
   "cell_type": "markdown",
   "id": "3f9cf147",
   "metadata": {},
   "source": [
    "#### In this project, I successfully conducted sentiment analysis on the Amazon Fine Food Reviews dataset using Jupyter Notebooks and various natural language processing techniques. Our main objective was to recommend new products to someone who does reviews often (Chris), using RNN to perform sentiment analysis using only Amazon reviews as the model. I began by performing exploratory data analysis to gain insights into the dataset's characteristics and distribution of sentiments. Preprocessing steps, such as removing stop words, were applied to clean the text data and enhance the quality of our sentiment analysis. This analysis provided valuable insights into the key factors driving positive or negative sentiment within the Amazon Fine Food Reviews dataset.\n",
    " \n",
    "#### The Sentiment Analysis on Amazon Fine Food Reviews project successfully employed deep learning techniques to classify customer reviews as positive or negative. The outcome of this project contributes to a better understanding of customer sentiments and can be potentially applied in various industries for customer feedback analysis and decision-making processes. Overall, this project was a success."
   ]
  }
 ],
 "metadata": {
  "kernelspec": {
   "display_name": "Python 3 (ipykernel)",
   "language": "python",
   "name": "python3"
  },
  "language_info": {
   "codemirror_mode": {
    "name": "ipython",
    "version": 3
   },
   "file_extension": ".py",
   "mimetype": "text/x-python",
   "name": "python",
   "nbconvert_exporter": "python",
   "pygments_lexer": "ipython3",
   "version": "3.11.5"
  }
 },
 "nbformat": 4,
 "nbformat_minor": 5
}
